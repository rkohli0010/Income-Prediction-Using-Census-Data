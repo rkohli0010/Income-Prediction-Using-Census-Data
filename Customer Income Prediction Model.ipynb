{
 "cells": [
  {
   "cell_type": "code",
   "execution_count": 2,
   "id": "1f54f1ce",
   "metadata": {},
   "outputs": [],
   "source": [
    "import pandas as pd\n",
    "import numpy as np\n",
    "import matplotlib.pyplot as plt\n",
    "import seaborn as sbn\n",
    "%matplotlib inline\n",
    "\n",
    "from sklearn.linear_model import LogisticRegression\n",
    "from sklearn.tree import DecisionTreeClassifier\n",
    "from sklearn.naive_bayes import GaussianNB\n",
    "from sklearn.ensemble import RandomForestClassifier\n",
    "from sklearn.model_selection import GridSearchCV, cross_val_score, StratifiedKFold, learning_curve, train_test_split, KFold\n",
    "from sklearn.metrics import classification_report\n",
    "from sklearn.metrics import confusion_matrix\n",
    "from sklearn.metrics import accuracy_score"
   ]
  },
  {
   "cell_type": "code",
   "execution_count": 3,
   "id": "67f57047",
   "metadata": {},
   "outputs": [],
   "source": [
    "df = pd.read_csv(\"adult.csv\")\n",
    "#Importing the dataset"
   ]
  },
  {
   "cell_type": "code",
   "execution_count": 4,
   "id": "6cd26513",
   "metadata": {},
   "outputs": [
    {
     "data": {
      "text/html": [
       "<div>\n",
       "<style scoped>\n",
       "    .dataframe tbody tr th:only-of-type {\n",
       "        vertical-align: middle;\n",
       "    }\n",
       "\n",
       "    .dataframe tbody tr th {\n",
       "        vertical-align: top;\n",
       "    }\n",
       "\n",
       "    .dataframe thead th {\n",
       "        text-align: right;\n",
       "    }\n",
       "</style>\n",
       "<table border=\"1\" class=\"dataframe\">\n",
       "  <thead>\n",
       "    <tr style=\"text-align: right;\">\n",
       "      <th></th>\n",
       "      <th>age</th>\n",
       "      <th>workclass</th>\n",
       "      <th>fnlwgt</th>\n",
       "      <th>education</th>\n",
       "      <th>education.num</th>\n",
       "      <th>marital.status</th>\n",
       "      <th>occupation</th>\n",
       "      <th>relationship</th>\n",
       "      <th>race</th>\n",
       "      <th>sex</th>\n",
       "      <th>capital.gain</th>\n",
       "      <th>capital.loss</th>\n",
       "      <th>hours.per.week</th>\n",
       "      <th>native.country</th>\n",
       "      <th>income</th>\n",
       "    </tr>\n",
       "  </thead>\n",
       "  <tbody>\n",
       "    <tr>\n",
       "      <th>0</th>\n",
       "      <td>90</td>\n",
       "      <td>?</td>\n",
       "      <td>77053</td>\n",
       "      <td>HS-grad</td>\n",
       "      <td>9</td>\n",
       "      <td>Widowed</td>\n",
       "      <td>?</td>\n",
       "      <td>Not-in-family</td>\n",
       "      <td>White</td>\n",
       "      <td>Female</td>\n",
       "      <td>0</td>\n",
       "      <td>4356</td>\n",
       "      <td>40</td>\n",
       "      <td>United-States</td>\n",
       "      <td>&lt;=50K</td>\n",
       "    </tr>\n",
       "    <tr>\n",
       "      <th>1</th>\n",
       "      <td>82</td>\n",
       "      <td>Private</td>\n",
       "      <td>132870</td>\n",
       "      <td>HS-grad</td>\n",
       "      <td>9</td>\n",
       "      <td>Widowed</td>\n",
       "      <td>Exec-managerial</td>\n",
       "      <td>Not-in-family</td>\n",
       "      <td>White</td>\n",
       "      <td>Female</td>\n",
       "      <td>0</td>\n",
       "      <td>4356</td>\n",
       "      <td>18</td>\n",
       "      <td>United-States</td>\n",
       "      <td>&lt;=50K</td>\n",
       "    </tr>\n",
       "    <tr>\n",
       "      <th>2</th>\n",
       "      <td>66</td>\n",
       "      <td>?</td>\n",
       "      <td>186061</td>\n",
       "      <td>Some-college</td>\n",
       "      <td>10</td>\n",
       "      <td>Widowed</td>\n",
       "      <td>?</td>\n",
       "      <td>Unmarried</td>\n",
       "      <td>Black</td>\n",
       "      <td>Female</td>\n",
       "      <td>0</td>\n",
       "      <td>4356</td>\n",
       "      <td>40</td>\n",
       "      <td>United-States</td>\n",
       "      <td>&lt;=50K</td>\n",
       "    </tr>\n",
       "    <tr>\n",
       "      <th>3</th>\n",
       "      <td>54</td>\n",
       "      <td>Private</td>\n",
       "      <td>140359</td>\n",
       "      <td>7th-8th</td>\n",
       "      <td>4</td>\n",
       "      <td>Divorced</td>\n",
       "      <td>Machine-op-inspct</td>\n",
       "      <td>Unmarried</td>\n",
       "      <td>White</td>\n",
       "      <td>Female</td>\n",
       "      <td>0</td>\n",
       "      <td>3900</td>\n",
       "      <td>40</td>\n",
       "      <td>United-States</td>\n",
       "      <td>&lt;=50K</td>\n",
       "    </tr>\n",
       "    <tr>\n",
       "      <th>4</th>\n",
       "      <td>41</td>\n",
       "      <td>Private</td>\n",
       "      <td>264663</td>\n",
       "      <td>Some-college</td>\n",
       "      <td>10</td>\n",
       "      <td>Separated</td>\n",
       "      <td>Prof-specialty</td>\n",
       "      <td>Own-child</td>\n",
       "      <td>White</td>\n",
       "      <td>Female</td>\n",
       "      <td>0</td>\n",
       "      <td>3900</td>\n",
       "      <td>40</td>\n",
       "      <td>United-States</td>\n",
       "      <td>&lt;=50K</td>\n",
       "    </tr>\n",
       "  </tbody>\n",
       "</table>\n",
       "</div>"
      ],
      "text/plain": [
       "   age workclass  fnlwgt     education  education.num marital.status  \\\n",
       "0   90         ?   77053       HS-grad              9        Widowed   \n",
       "1   82   Private  132870       HS-grad              9        Widowed   \n",
       "2   66         ?  186061  Some-college             10        Widowed   \n",
       "3   54   Private  140359       7th-8th              4       Divorced   \n",
       "4   41   Private  264663  Some-college             10      Separated   \n",
       "\n",
       "          occupation   relationship   race     sex  capital.gain  \\\n",
       "0                  ?  Not-in-family  White  Female             0   \n",
       "1    Exec-managerial  Not-in-family  White  Female             0   \n",
       "2                  ?      Unmarried  Black  Female             0   \n",
       "3  Machine-op-inspct      Unmarried  White  Female             0   \n",
       "4     Prof-specialty      Own-child  White  Female             0   \n",
       "\n",
       "   capital.loss  hours.per.week native.country income  \n",
       "0          4356              40  United-States  <=50K  \n",
       "1          4356              18  United-States  <=50K  \n",
       "2          4356              40  United-States  <=50K  \n",
       "3          3900              40  United-States  <=50K  \n",
       "4          3900              40  United-States  <=50K  "
      ]
     },
     "execution_count": 4,
     "metadata": {},
     "output_type": "execute_result"
    }
   ],
   "source": [
    "df.head()"
   ]
  },
  {
   "cell_type": "markdown",
   "id": "ebae1c18",
   "metadata": {},
   "source": [
    "# Exploratory Data Analysis - First impressions"
   ]
  },
  {
   "cell_type": "code",
   "execution_count": 5,
   "id": "94552433",
   "metadata": {},
   "outputs": [
    {
     "data": {
      "text/plain": [
       "age               0\n",
       "workclass         0\n",
       "fnlwgt            0\n",
       "education         0\n",
       "education.num     0\n",
       "marital.status    0\n",
       "occupation        0\n",
       "relationship      0\n",
       "race              0\n",
       "sex               0\n",
       "capital.gain      0\n",
       "capital.loss      0\n",
       "hours.per.week    0\n",
       "native.country    0\n",
       "income            0\n",
       "dtype: int64"
      ]
     },
     "execution_count": 5,
     "metadata": {},
     "output_type": "execute_result"
    }
   ],
   "source": [
    "df.isnull().sum()\n",
    "#Checking for null values"
   ]
  },
  {
   "cell_type": "markdown",
   "id": "284605a3",
   "metadata": {},
   "source": [
    "$No$ $Null$ $Values$"
   ]
  },
  {
   "cell_type": "code",
   "execution_count": 6,
   "id": "d2fc0064",
   "metadata": {},
   "outputs": [
    {
     "data": {
      "text/plain": [
       "<=50K    24720\n",
       ">50K      7841\n",
       "Name: income, dtype: int64"
      ]
     },
     "execution_count": 6,
     "metadata": {},
     "output_type": "execute_result"
    }
   ],
   "source": [
    "df['income'].value_counts()\n",
    "#Checking for erroneous values in the target columns"
   ]
  },
  {
   "cell_type": "markdown",
   "id": "aa67f2f4",
   "metadata": {},
   "source": [
    "No erroneous values!!!"
   ]
  },
  {
   "cell_type": "code",
   "execution_count": 7,
   "id": "5f5844d7",
   "metadata": {},
   "outputs": [],
   "source": [
    "df['Income_Level'] = np.where(df['income']=='<=50K', 0, 1)\n",
    "#Creating a new income column with 0's and 1's"
   ]
  },
  {
   "cell_type": "code",
   "execution_count": 8,
   "id": "a4f05514",
   "metadata": {},
   "outputs": [
    {
     "data": {
      "text/plain": [
       "0    24720\n",
       "1     7841\n",
       "Name: Income_Level, dtype: int64"
      ]
     },
     "execution_count": 8,
     "metadata": {},
     "output_type": "execute_result"
    }
   ],
   "source": [
    "df.Income_Level.value_counts()"
   ]
  },
  {
   "cell_type": "markdown",
   "id": "c2a7b602",
   "metadata": {},
   "source": [
    "New column values match $income$ column"
   ]
  },
  {
   "cell_type": "code",
   "execution_count": 9,
   "id": "865df0b9",
   "metadata": {},
   "outputs": [],
   "source": [
    "df.drop(columns='income',inplace=True)\n",
    "#Dropping the old income column"
   ]
  },
  {
   "cell_type": "code",
   "execution_count": 10,
   "id": "a6709f7c",
   "metadata": {},
   "outputs": [
    {
     "data": {
      "text/plain": [
       "age                int64\n",
       "workclass         object\n",
       "fnlwgt             int64\n",
       "education         object\n",
       "education.num      int64\n",
       "marital.status    object\n",
       "occupation        object\n",
       "relationship      object\n",
       "race              object\n",
       "sex               object\n",
       "capital.gain       int64\n",
       "capital.loss       int64\n",
       "hours.per.week     int64\n",
       "native.country    object\n",
       "Income_Level       int64\n",
       "dtype: object"
      ]
     },
     "execution_count": 10,
     "metadata": {},
     "output_type": "execute_result"
    }
   ],
   "source": [
    "df.dtypes\n",
    "#Checking data types, especially for the target column and separating numerical and categorical columns!"
   ]
  },
  {
   "cell_type": "code",
   "execution_count": 11,
   "id": "f4d2ecae",
   "metadata": {},
   "outputs": [],
   "source": [
    "num = ['age', 'fnlwgt','education.num','capital.gain','capital.loss','hours.per.week','Income_Level']\n",
    "cat = ['workclass','education','marital.status','occupation','relationship','race','sex','native.country','Income_Level']\n",
    "#Creating lists for numerical and categorical variables for further analysis"
   ]
  },
  {
   "cell_type": "code",
   "execution_count": 12,
   "id": "356c6869",
   "metadata": {
    "scrolled": true
   },
   "outputs": [
    {
     "data": {
      "text/html": [
       "<div>\n",
       "<style scoped>\n",
       "    .dataframe tbody tr th:only-of-type {\n",
       "        vertical-align: middle;\n",
       "    }\n",
       "\n",
       "    .dataframe tbody tr th {\n",
       "        vertical-align: top;\n",
       "    }\n",
       "\n",
       "    .dataframe thead th {\n",
       "        text-align: right;\n",
       "    }\n",
       "</style>\n",
       "<table border=\"1\" class=\"dataframe\">\n",
       "  <thead>\n",
       "    <tr style=\"text-align: right;\">\n",
       "      <th></th>\n",
       "      <th>age</th>\n",
       "      <th>fnlwgt</th>\n",
       "      <th>education.num</th>\n",
       "      <th>capital.gain</th>\n",
       "      <th>capital.loss</th>\n",
       "      <th>hours.per.week</th>\n",
       "      <th>Income_Level</th>\n",
       "    </tr>\n",
       "  </thead>\n",
       "  <tbody>\n",
       "    <tr>\n",
       "      <th>count</th>\n",
       "      <td>32561.000000</td>\n",
       "      <td>3.256100e+04</td>\n",
       "      <td>32561.000000</td>\n",
       "      <td>32561.000000</td>\n",
       "      <td>32561.000000</td>\n",
       "      <td>32561.000000</td>\n",
       "      <td>32561.000000</td>\n",
       "    </tr>\n",
       "    <tr>\n",
       "      <th>mean</th>\n",
       "      <td>38.581647</td>\n",
       "      <td>1.897784e+05</td>\n",
       "      <td>10.080679</td>\n",
       "      <td>1077.648844</td>\n",
       "      <td>87.303830</td>\n",
       "      <td>40.437456</td>\n",
       "      <td>0.240810</td>\n",
       "    </tr>\n",
       "    <tr>\n",
       "      <th>std</th>\n",
       "      <td>13.640433</td>\n",
       "      <td>1.055500e+05</td>\n",
       "      <td>2.572720</td>\n",
       "      <td>7385.292085</td>\n",
       "      <td>402.960219</td>\n",
       "      <td>12.347429</td>\n",
       "      <td>0.427581</td>\n",
       "    </tr>\n",
       "    <tr>\n",
       "      <th>min</th>\n",
       "      <td>17.000000</td>\n",
       "      <td>1.228500e+04</td>\n",
       "      <td>1.000000</td>\n",
       "      <td>0.000000</td>\n",
       "      <td>0.000000</td>\n",
       "      <td>1.000000</td>\n",
       "      <td>0.000000</td>\n",
       "    </tr>\n",
       "    <tr>\n",
       "      <th>25%</th>\n",
       "      <td>28.000000</td>\n",
       "      <td>1.178270e+05</td>\n",
       "      <td>9.000000</td>\n",
       "      <td>0.000000</td>\n",
       "      <td>0.000000</td>\n",
       "      <td>40.000000</td>\n",
       "      <td>0.000000</td>\n",
       "    </tr>\n",
       "    <tr>\n",
       "      <th>50%</th>\n",
       "      <td>37.000000</td>\n",
       "      <td>1.783560e+05</td>\n",
       "      <td>10.000000</td>\n",
       "      <td>0.000000</td>\n",
       "      <td>0.000000</td>\n",
       "      <td>40.000000</td>\n",
       "      <td>0.000000</td>\n",
       "    </tr>\n",
       "    <tr>\n",
       "      <th>75%</th>\n",
       "      <td>48.000000</td>\n",
       "      <td>2.370510e+05</td>\n",
       "      <td>12.000000</td>\n",
       "      <td>0.000000</td>\n",
       "      <td>0.000000</td>\n",
       "      <td>45.000000</td>\n",
       "      <td>0.000000</td>\n",
       "    </tr>\n",
       "    <tr>\n",
       "      <th>max</th>\n",
       "      <td>90.000000</td>\n",
       "      <td>1.484705e+06</td>\n",
       "      <td>16.000000</td>\n",
       "      <td>99999.000000</td>\n",
       "      <td>4356.000000</td>\n",
       "      <td>99.000000</td>\n",
       "      <td>1.000000</td>\n",
       "    </tr>\n",
       "  </tbody>\n",
       "</table>\n",
       "</div>"
      ],
      "text/plain": [
       "                age        fnlwgt  education.num  capital.gain  capital.loss  \\\n",
       "count  32561.000000  3.256100e+04   32561.000000  32561.000000  32561.000000   \n",
       "mean      38.581647  1.897784e+05      10.080679   1077.648844     87.303830   \n",
       "std       13.640433  1.055500e+05       2.572720   7385.292085    402.960219   \n",
       "min       17.000000  1.228500e+04       1.000000      0.000000      0.000000   \n",
       "25%       28.000000  1.178270e+05       9.000000      0.000000      0.000000   \n",
       "50%       37.000000  1.783560e+05      10.000000      0.000000      0.000000   \n",
       "75%       48.000000  2.370510e+05      12.000000      0.000000      0.000000   \n",
       "max       90.000000  1.484705e+06      16.000000  99999.000000   4356.000000   \n",
       "\n",
       "       hours.per.week  Income_Level  \n",
       "count    32561.000000  32561.000000  \n",
       "mean        40.437456      0.240810  \n",
       "std         12.347429      0.427581  \n",
       "min          1.000000      0.000000  \n",
       "25%         40.000000      0.000000  \n",
       "50%         40.000000      0.000000  \n",
       "75%         45.000000      0.000000  \n",
       "max         99.000000      1.000000  "
      ]
     },
     "execution_count": 12,
     "metadata": {},
     "output_type": "execute_result"
    }
   ],
   "source": [
    "df[num].describe()\n",
    "# Descriptive statistice of the numerical data"
   ]
  },
  {
   "cell_type": "markdown",
   "id": "e397b3c4",
   "metadata": {},
   "source": [
    "# Exploratory Data Analysis - Numerical variables"
   ]
  },
  {
   "cell_type": "code",
   "execution_count": 244,
   "id": "6ec09823",
   "metadata": {},
   "outputs": [
    {
     "name": "stderr",
     "output_type": "stream",
     "text": [
      "/Users/raunaqsinghkohli/opt/anaconda3/lib/python3.9/site-packages/seaborn/_decorators.py:36: FutureWarning: Pass the following variable as a keyword arg: x. From version 0.12, the only valid positional argument will be `data`, and passing other arguments without an explicit keyword will result in an error or misinterpretation.\n",
      "  warnings.warn(\n",
      "/Users/raunaqsinghkohli/opt/anaconda3/lib/python3.9/site-packages/seaborn/_decorators.py:36: FutureWarning: Pass the following variable as a keyword arg: x. From version 0.12, the only valid positional argument will be `data`, and passing other arguments without an explicit keyword will result in an error or misinterpretation.\n",
      "  warnings.warn(\n",
      "/Users/raunaqsinghkohli/opt/anaconda3/lib/python3.9/site-packages/seaborn/_decorators.py:36: FutureWarning: Pass the following variable as a keyword arg: x. From version 0.12, the only valid positional argument will be `data`, and passing other arguments without an explicit keyword will result in an error or misinterpretation.\n",
      "  warnings.warn(\n",
      "/Users/raunaqsinghkohli/opt/anaconda3/lib/python3.9/site-packages/seaborn/_decorators.py:36: FutureWarning: Pass the following variable as a keyword arg: x. From version 0.12, the only valid positional argument will be `data`, and passing other arguments without an explicit keyword will result in an error or misinterpretation.\n",
      "  warnings.warn(\n",
      "/Users/raunaqsinghkohli/opt/anaconda3/lib/python3.9/site-packages/seaborn/_decorators.py:36: FutureWarning: Pass the following variable as a keyword arg: x. From version 0.12, the only valid positional argument will be `data`, and passing other arguments without an explicit keyword will result in an error or misinterpretation.\n",
      "  warnings.warn(\n",
      "/Users/raunaqsinghkohli/opt/anaconda3/lib/python3.9/site-packages/seaborn/_decorators.py:36: FutureWarning: Pass the following variable as a keyword arg: x. From version 0.12, the only valid positional argument will be `data`, and passing other arguments without an explicit keyword will result in an error or misinterpretation.\n",
      "  warnings.warn(\n"
     ]
    },
    {
     "data": {
      "image/png": "[encoded data removed]",
      "text/plain": [
       "<Figure size 432x288 with 1 Axes>"
      ]
     },
     "metadata": {
      "needs_background": "light"
     },
     "output_type": "display_data"
    },
    {
     "data": {
      "image/png": "[encoded data removed]",
      "text/plain": [
       "<Figure size 432x288 with 1 Axes>"
      ]
     },
     "metadata": {
      "needs_background": "light"
     },
     "output_type": "display_data"
    },
    {
     "data": {
      "image/png": "[encoded data removed]",
      "text/plain": [
       "<Figure size 432x288 with 1 Axes>"
      ]
     },
     "metadata": {
      "needs_background": "light"
     },
     "output_type": "display_data"
    },
    {
     "data": {
      "image/png": "[encoded data removed]",
      "text/plain": [
       "<Figure size 432x288 with 1 Axes>"
      ]
     },
     "metadata": {
      "needs_background": "light"
     },
     "output_type": "display_data"
    },
    {
     "data": {
      "image/png": "[encoded data removed]",
      "text/plain": [
       "<Figure size 432x288 with 1 Axes>"
      ]
     },
     "metadata": {
      "needs_background": "light"
     },
     "output_type": "display_data"
    },
    {
     "data": {
      "image/png": "[encoded data removed]",
      "text/plain": [
       "<Figure size 432x288 with 1 Axes>"
      ]
     },
     "metadata": {
      "needs_background": "light"
     },
     "output_type": "display_data"
    }
   ],
   "source": [
    "for i in range(len(num)-1) :\n",
    "    plt.figure()\n",
    "    sbn.boxplot(df[num[i]])\n",
    "    plt.show\n",
    "    \n",
    "#Creating boxplots to assess outliers using visualization"
   ]
  },
  {
   "cell_type": "code",
   "execution_count": 14,
   "id": "99825344",
   "metadata": {
    "scrolled": true
   },
   "outputs": [
    {
     "name": "stderr",
     "output_type": "stream",
     "text": [
      "/Users/raunaqsinghkohli/opt/anaconda3/lib/python3.9/site-packages/seaborn/_decorators.py:36: FutureWarning: Pass the following variable as a keyword arg: x. From version 0.12, the only valid positional argument will be `data`, and passing other arguments without an explicit keyword will result in an error or misinterpretation.\n",
      "  warnings.warn(\n"
     ]
    },
    {
     "data": {
      "image/png": "[encoded data removed]",
      "text/plain": [
       "<Figure size 432x288 with 1 Axes>"
      ]
     },
     "metadata": {
      "needs_background": "light"
     },
     "output_type": "display_data"
    },
    {
     "name": "stderr",
     "output_type": "stream",
     "text": [
      "/Users/raunaqsinghkohli/opt/anaconda3/lib/python3.9/site-packages/seaborn/_decorators.py:36: FutureWarning: Pass the following variable as a keyword arg: x. From version 0.12, the only valid positional argument will be `data`, and passing other arguments without an explicit keyword will result in an error or misinterpretation.\n",
      "  warnings.warn(\n"
     ]
    },
    {
     "data": {
      "image/png": "[encoded data removed]",
      "text/plain": [
       "<Figure size 432x288 with 1 Axes>"
      ]
     },
     "metadata": {
      "needs_background": "light"
     },
     "output_type": "display_data"
    }
   ],
   "source": [
    "plt.figure()\n",
    "df1 = df[df['capital.gain']>0]\n",
    "clg = sbn.boxplot(df1['capital.gain'])\n",
    "plt.show()\n",
    "df2 = df[df['capital.loss']>0]\n",
    "cll = sbn.boxplot(df2['capital.loss'])\n",
    "cll.set(xlim=(0, df['capital.loss'].max()))\n",
    "plt.show()\n",
    "\n",
    "#Negative and positive values of capital gain and capital loss respectively have to be excluded in outlier detection\n",
    "#But a considerable number of outliers found in capital gains and losses"
   ]
  },
  {
   "cell_type": "code",
   "execution_count": 15,
   "id": "6133c631",
   "metadata": {},
   "outputs": [],
   "source": [
    "outlier_indexes = []\n",
    "\n",
    "#def outlier_index_detection(columns) :\n",
    "#    Q1 = np.percentile(columns,25,interpolation='midpoint')\n",
    "#    Q3 = np.percentile(columns,75,interpolation='midpoint')\n",
    "#    IQR = Q3 - Q1\n",
    "#    low_lim = Q1 - 1.5*IQR\n",
    "#    up_lim = Q3 + 1.5*IQR\n",
    "#    x=(df[(columns>up_lim) | (columns<low_lim)  ].index.tolist())\n",
    "#    global outlier_indexes\n",
    "#    outlier_indexes = outlier_indexes + x\n",
    "    "
   ]
  },
  {
   "cell_type": "code",
   "execution_count": 16,
   "id": "516d8a56",
   "metadata": {},
   "outputs": [],
   "source": [
    "Q1 = np.percentile(df['age'],25,interpolation='midpoint')\n",
    "Q3 = np.percentile(df['age'],75,interpolation='midpoint')\n",
    "IQR = Q3 - Q1\n",
    "low_lim = Q1 - 1.5*IQR\n",
    "up_lim = Q3 + 1.5*IQR\n",
    "x=(df[(df['age']>up_lim) | (df['age']<low_lim)  ].index.tolist())\n",
    "global outlier_indexes\n",
    "outlier_indexes = outlier_indexes + x\n",
    "#Age only has larger outliers"
   ]
  },
  {
   "cell_type": "code",
   "execution_count": 17,
   "id": "98141238",
   "metadata": {},
   "outputs": [],
   "source": [
    "Q1 = np.percentile(df['education.num'],25,interpolation='midpoint')\n",
    "Q3 = np.percentile(df['education.num'],75,interpolation='midpoint')\n",
    "IQR = Q3 - Q1\n",
    "low_lim = Q1 - 1.5*IQR\n",
    "up_lim = Q3 + 1.5*IQR\n",
    "x=(df[(df['education.num']<low_lim)  ].index.tolist())\n",
    "global outlier_indexes\n",
    "outlier_indexes = outlier_indexes + x\n",
    "#We need to remove the bottom education years, since we there are quite a lot of outliers and...\n",
    "#...we expect to have most our customers having completed atleast high school"
   ]
  },
  {
   "cell_type": "code",
   "execution_count": 18,
   "id": "62007914",
   "metadata": {
    "scrolled": true
   },
   "outputs": [
    {
     "data": {
      "text/plain": [
       "(array([3.1791e+04, 5.1700e+02, 8.7000e+01, 5.0000e+00, 2.0000e+00,\n",
       "        0.0000e+00, 0.0000e+00, 0.0000e+00, 0.0000e+00, 1.5900e+02]),\n",
       " array([    0. ,  9999.9, 19999.8, 29999.7, 39999.6, 49999.5, 59999.4,\n",
       "        69999.3, 79999.2, 89999.1, 99999. ]),\n",
       " <BarContainer object of 10 artists>)"
      ]
     },
     "execution_count": 18,
     "metadata": {},
     "output_type": "execute_result"
    },
    {
     "data": {
      "image/png": "[encoded data removed]",
      "text/plain": [
       "<Figure size 432x288 with 1 Axes>"
      ]
     },
     "metadata": {
      "needs_background": "light"
     },
     "output_type": "display_data"
    }
   ],
   "source": [
    "plt.hist(df['capital.gain'])\n",
    "#For capital gain, just the last few values need to be removed"
   ]
  },
  {
   "cell_type": "code",
   "execution_count": 19,
   "id": "22377d93",
   "metadata": {},
   "outputs": [
    {
     "data": {
      "text/plain": [
       "0        29849\n",
       "15024      347\n",
       "7688       284\n",
       "7298       246\n",
       "99999      159\n",
       "         ...  \n",
       "1111         1\n",
       "4931         1\n",
       "7978         1\n",
       "5060         1\n",
       "2538         1\n",
       "Name: capital.gain, Length: 119, dtype: int64"
      ]
     },
     "execution_count": 19,
     "metadata": {},
     "output_type": "execute_result"
    }
   ],
   "source": [
    "df['capital.gain'].value_counts()\n",
    "#Checking outliers"
   ]
  },
  {
   "cell_type": "code",
   "execution_count": 20,
   "id": "5a1f7e74",
   "metadata": {},
   "outputs": [],
   "source": [
    "to_remove=df[df['capital.gain']==99999].index.tolist()\n",
    "outlier_indexes = outlier_indexes + to_remove\n",
    "#Adding capital gain indices to be removed"
   ]
  },
  {
   "cell_type": "code",
   "execution_count": 21,
   "id": "ca91f5f6",
   "metadata": {},
   "outputs": [
    {
     "data": {
      "text/plain": [
       "(array([3.1053e+04, 1.7000e+01, 2.1000e+01, 4.6100e+02, 7.7900e+02,\n",
       "        2.0700e+02, 1.4000e+01, 0.0000e+00, 6.0000e+00, 3.0000e+00]),\n",
       " array([   0. ,  435.6,  871.2, 1306.8, 1742.4, 2178. , 2613.6, 3049.2,\n",
       "        3484.8, 3920.4, 4356. ]),\n",
       " <BarContainer object of 10 artists>)"
      ]
     },
     "execution_count": 21,
     "metadata": {},
     "output_type": "execute_result"
    },
    {
     "data": {
      "image/png": "[encoded data removed]",
      "text/plain": [
       "<Figure size 432x288 with 1 Axes>"
      ]
     },
     "metadata": {
      "needs_background": "light"
     },
     "output_type": "display_data"
    }
   ],
   "source": [
    "plt.hist(df['capital.loss'])\n",
    "#For capital loss, checking outliers"
   ]
  },
  {
   "cell_type": "code",
   "execution_count": 22,
   "id": "e78b75c5",
   "metadata": {},
   "outputs": [
    {
     "data": {
      "text/plain": [
       "0       31042\n",
       "1902      202\n",
       "1977      168\n",
       "1887      159\n",
       "1485       51\n",
       "        ...  \n",
       "2201        1\n",
       "2163        1\n",
       "1944        1\n",
       "1539        1\n",
       "2472        1\n",
       "Name: capital.loss, Length: 92, dtype: int64"
      ]
     },
     "execution_count": 22,
     "metadata": {},
     "output_type": "execute_result"
    }
   ],
   "source": [
    "df['capital.loss'].value_counts()\n",
    "#No need to correct outliers here"
   ]
  },
  {
   "cell_type": "code",
   "execution_count": 23,
   "id": "52984d3d",
   "metadata": {},
   "outputs": [
    {
     "data": {
      "text/plain": [
       "count    32561.000000\n",
       "mean        40.437456\n",
       "std         12.347429\n",
       "min          1.000000\n",
       "25%         40.000000\n",
       "50%         40.000000\n",
       "75%         45.000000\n",
       "max         99.000000\n",
       "Name: hours.per.week, dtype: float64"
      ]
     },
     "execution_count": 23,
     "metadata": {},
     "output_type": "execute_result"
    }
   ],
   "source": [
    "df['hours.per.week'].describe()\n",
    "#It would be better to remove outliers here using the interquartile range, removing outliers at the top and bottom"
   ]
  },
  {
   "cell_type": "code",
   "execution_count": 24,
   "id": "2db62dbc",
   "metadata": {},
   "outputs": [],
   "source": [
    "Q1 = np.percentile(df['hours.per.week'],25,interpolation='midpoint')\n",
    "Q3 = np.percentile(df['hours.per.week'],75,interpolation='midpoint')\n",
    "IQR = Q3 - Q1\n",
    "low_lim = Q1 - 1.5*IQR\n",
    "up_lim = Q3 + 1.5*IQR\n",
    "x=(df[(df['hours.per.week']>up_lim) | (df['hours.per.week']<low_lim)  ].index.tolist())\n",
    "outlier_indexes\n",
    "outlier_indexes = outlier_indexes + x\n",
    "#Getting outlier indexes"
   ]
  },
  {
   "cell_type": "code",
   "execution_count": 25,
   "id": "6fb3acdf",
   "metadata": {},
   "outputs": [],
   "source": [
    "df.drop(index = outlier_indexes,inplace=True)\n",
    "#Removing outliers on index"
   ]
  },
  {
   "cell_type": "code",
   "execution_count": 26,
   "id": "e04611af",
   "metadata": {},
   "outputs": [
    {
     "data": {
      "text/html": [
       "<div>\n",
       "<style scoped>\n",
       "    .dataframe tbody tr th:only-of-type {\n",
       "        vertical-align: middle;\n",
       "    }\n",
       "\n",
       "    .dataframe tbody tr th {\n",
       "        vertical-align: top;\n",
       "    }\n",
       "\n",
       "    .dataframe thead th {\n",
       "        text-align: right;\n",
       "    }\n",
       "</style>\n",
       "<table border=\"1\" class=\"dataframe\">\n",
       "  <thead>\n",
       "    <tr style=\"text-align: right;\">\n",
       "      <th></th>\n",
       "      <th>age</th>\n",
       "      <th>fnlwgt</th>\n",
       "      <th>education.num</th>\n",
       "      <th>capital.gain</th>\n",
       "      <th>capital.loss</th>\n",
       "      <th>hours.per.week</th>\n",
       "      <th>Income_Level</th>\n",
       "    </tr>\n",
       "  </thead>\n",
       "  <tbody>\n",
       "    <tr>\n",
       "      <th>count</th>\n",
       "      <td>22556.000000</td>\n",
       "      <td>2.255600e+04</td>\n",
       "      <td>22556.00000</td>\n",
       "      <td>22556.000000</td>\n",
       "      <td>22556.00000</td>\n",
       "      <td>22556.000000</td>\n",
       "      <td>22556.000000</td>\n",
       "    </tr>\n",
       "    <tr>\n",
       "      <th>mean</th>\n",
       "      <td>38.504212</td>\n",
       "      <td>1.907775e+05</td>\n",
       "      <td>10.35383</td>\n",
       "      <td>612.735059</td>\n",
       "      <td>89.29030</td>\n",
       "      <td>41.590397</td>\n",
       "      <td>0.259709</td>\n",
       "    </tr>\n",
       "    <tr>\n",
       "      <th>std</th>\n",
       "      <td>12.047715</td>\n",
       "      <td>1.050061e+05</td>\n",
       "      <td>2.19892</td>\n",
       "      <td>2529.205790</td>\n",
       "      <td>405.09479</td>\n",
       "      <td>4.019718</td>\n",
       "      <td>0.438485</td>\n",
       "    </tr>\n",
       "    <tr>\n",
       "      <th>min</th>\n",
       "      <td>17.000000</td>\n",
       "      <td>1.487800e+04</td>\n",
       "      <td>5.00000</td>\n",
       "      <td>0.000000</td>\n",
       "      <td>0.00000</td>\n",
       "      <td>33.000000</td>\n",
       "      <td>0.000000</td>\n",
       "    </tr>\n",
       "    <tr>\n",
       "      <th>25%</th>\n",
       "      <td>29.000000</td>\n",
       "      <td>1.191768e+05</td>\n",
       "      <td>9.00000</td>\n",
       "      <td>0.000000</td>\n",
       "      <td>0.00000</td>\n",
       "      <td>40.000000</td>\n",
       "      <td>0.000000</td>\n",
       "    </tr>\n",
       "    <tr>\n",
       "      <th>50%</th>\n",
       "      <td>37.000000</td>\n",
       "      <td>1.795790e+05</td>\n",
       "      <td>10.00000</td>\n",
       "      <td>0.000000</td>\n",
       "      <td>0.00000</td>\n",
       "      <td>40.000000</td>\n",
       "      <td>0.000000</td>\n",
       "    </tr>\n",
       "    <tr>\n",
       "      <th>75%</th>\n",
       "      <td>47.000000</td>\n",
       "      <td>2.369192e+05</td>\n",
       "      <td>13.00000</td>\n",
       "      <td>0.000000</td>\n",
       "      <td>0.00000</td>\n",
       "      <td>43.000000</td>\n",
       "      <td>1.000000</td>\n",
       "    </tr>\n",
       "    <tr>\n",
       "      <th>max</th>\n",
       "      <td>78.000000</td>\n",
       "      <td>1.455435e+06</td>\n",
       "      <td>16.00000</td>\n",
       "      <td>41310.000000</td>\n",
       "      <td>4356.00000</td>\n",
       "      <td>52.000000</td>\n",
       "      <td>1.000000</td>\n",
       "    </tr>\n",
       "  </tbody>\n",
       "</table>\n",
       "</div>"
      ],
      "text/plain": [
       "                age        fnlwgt  education.num  capital.gain  capital.loss  \\\n",
       "count  22556.000000  2.255600e+04    22556.00000  22556.000000   22556.00000   \n",
       "mean      38.504212  1.907775e+05       10.35383    612.735059      89.29030   \n",
       "std       12.047715  1.050061e+05        2.19892   2529.205790     405.09479   \n",
       "min       17.000000  1.487800e+04        5.00000      0.000000       0.00000   \n",
       "25%       29.000000  1.191768e+05        9.00000      0.000000       0.00000   \n",
       "50%       37.000000  1.795790e+05       10.00000      0.000000       0.00000   \n",
       "75%       47.000000  2.369192e+05       13.00000      0.000000       0.00000   \n",
       "max       78.000000  1.455435e+06       16.00000  41310.000000    4356.00000   \n",
       "\n",
       "       hours.per.week  Income_Level  \n",
       "count    22556.000000  22556.000000  \n",
       "mean        41.590397      0.259709  \n",
       "std          4.019718      0.438485  \n",
       "min         33.000000      0.000000  \n",
       "25%         40.000000      0.000000  \n",
       "50%         40.000000      0.000000  \n",
       "75%         43.000000      1.000000  \n",
       "max         52.000000      1.000000  "
      ]
     },
     "execution_count": 26,
     "metadata": {},
     "output_type": "execute_result"
    }
   ],
   "source": [
    "df.describe()\n",
    "#Outliers are removed, and data is ready for analysis"
   ]
  },
  {
   "cell_type": "code",
   "execution_count": 28,
   "id": "f160e59d",
   "metadata": {},
   "outputs": [
    {
     "data": {
      "text/plain": [
       "(22556, 15)"
      ]
     },
     "execution_count": 28,
     "metadata": {},
     "output_type": "execute_result"
    }
   ],
   "source": [
    "df.shape\n",
    "#Checking the entries in the data frame"
   ]
  },
  {
   "cell_type": "code",
   "execution_count": 29,
   "id": "a0801a00",
   "metadata": {},
   "outputs": [
    {
     "data": {
      "text/plain": [
       "[Text(0.5, 0, 'Income Levels over or under/equal 50k'),\n",
       " Text(0, 0.5, 'Count of observations')]"
      ]
     },
     "execution_count": 29,
     "metadata": {},
     "output_type": "execute_result"
    },
    {
     "data": {
      "image/png": "[encoded data removed]",
      "text/plain": [
       "<Figure size 720x432 with 1 Axes>"
      ]
     },
     "metadata": {
      "needs_background": "light"
     },
     "output_type": "display_data"
    }
   ],
   "source": [
    "plt.figure(figsize=(10,6))\n",
    "ax = sbn.histplot(df.Income_Level, discrete=True)\n",
    "ax.set(xlabel='Income Levels over or under/equal 50k', ylabel='Count of observations')\n",
    "#Checking the distribution of income levels to check for bias"
   ]
  },
  {
   "cell_type": "code",
   "execution_count": 30,
   "id": "7322c684",
   "metadata": {},
   "outputs": [
    {
     "data": {
      "image/png": "[encoded data removed]",
      "text/plain": [
       "<Figure size 1152x432 with 2 Axes>"
      ]
     },
     "metadata": {
      "needs_background": "light"
     },
     "output_type": "display_data"
    }
   ],
   "source": [
    "plt.figure(figsize=(16, 6))\n",
    "heatmap = sbn.heatmap(round(df[num].corr(),2),vmin=-1, vmax=1,annot=True)\n",
    "heatmap.set_title('Numerical Variables Correlation', fontdict={'fontsize':18}, pad=12);\n",
    "#Checking for strong correlations between numerical variables"
   ]
  },
  {
   "cell_type": "markdown",
   "id": "ccf9ec77",
   "metadata": {},
   "source": [
    "### Highest Corellations :\n",
    "- 1. age and income\n",
    "- 2. education number and income\n",
    "- 3. hours/week and income\n",
    "- 4. capital gain and income"
   ]
  },
  {
   "cell_type": "code",
   "execution_count": 31,
   "id": "52a87e9c",
   "metadata": {},
   "outputs": [
    {
     "data": {
      "image/png": "[encoded data removed]",
      "text/plain": [
       "<Figure size 1152x432 with 1 Axes>"
      ]
     },
     "metadata": {
      "needs_background": "light"
     },
     "output_type": "display_data"
    }
   ],
   "source": [
    "plt.figure(figsize=(16,6))\n",
    "ax = sbn.boxplot(y=\"age\",x=\"Income_Level\",data=df)\n"
   ]
  },
  {
   "cell_type": "markdown",
   "id": "57fd7dea",
   "metadata": {},
   "source": [
    "### As general convention would say, mean age of subjects with an income level greater than $50k is greater"
   ]
  },
  {
   "cell_type": "code",
   "execution_count": 32,
   "id": "eb098ce7",
   "metadata": {},
   "outputs": [
    {
     "data": {
      "image/png": "[encoded data removed]",
      "text/plain": [
       "<Figure size 1152x432 with 1 Axes>"
      ]
     },
     "metadata": {
      "needs_background": "light"
     },
     "output_type": "display_data"
    }
   ],
   "source": [
    "plt.figure(figsize=(16,6))\n",
    "ax = sbn.boxplot(y=\"education.num\",x=\"Income_Level\",data=df)\n"
   ]
  },
  {
   "cell_type": "markdown",
   "id": "6f91f9e9",
   "metadata": {},
   "source": [
    "### Number of years of education too has a positive impact on income level"
   ]
  },
  {
   "cell_type": "code",
   "execution_count": 33,
   "id": "fcf31374",
   "metadata": {},
   "outputs": [
    {
     "data": {
      "image/png": "[encoded data removed]",
      "text/plain": [
       "<Figure size 1152x432 with 1 Axes>"
      ]
     },
     "metadata": {
      "needs_background": "light"
     },
     "output_type": "display_data"
    }
   ],
   "source": [
    "plt.figure(figsize=(16,6))\n",
    "ax = sbn.boxplot(y=\"education.num\",x=\"Income_Level\",data=df)\n",
    "\n"
   ]
  },
  {
   "cell_type": "markdown",
   "id": "691e95dd",
   "metadata": {},
   "source": [
    "### The mean of number of years of education is higher for people with income > $50k"
   ]
  },
  {
   "cell_type": "markdown",
   "id": "4276d57b",
   "metadata": {},
   "source": [
    "# Exploratory Data Analysis - Categorical Variables"
   ]
  },
  {
   "cell_type": "code",
   "execution_count": 36,
   "id": "a6c8359d",
   "metadata": {},
   "outputs": [
    {
     "data": {
      "text/plain": [
       "Private             16278\n",
       "Local-gov            1616\n",
       "Self-emp-not-inc     1347\n",
       "State-gov             989\n",
       "?                     857\n",
       "Federal-gov           825\n",
       "Self-emp-inc          638\n",
       "Without-pay             3\n",
       "Never-worked            3\n",
       "Name: workclass, dtype: int64"
      ]
     },
     "execution_count": 36,
     "metadata": {},
     "output_type": "execute_result"
    }
   ],
   "source": [
    "df['workclass'].value_counts()\n",
    "#857 unknown values"
   ]
  },
  {
   "cell_type": "code",
   "execution_count": 59,
   "id": "50f4d0e2",
   "metadata": {},
   "outputs": [],
   "source": [
    "drop_index=df[df['workclass']=='?'].index\n",
    "df.drop(index=drop_index, inplace=True)\n",
    "#This is a high number of observations, and putting them into any other class would lead to bias, hence we'll have to drop 'em'"
   ]
  },
  {
   "cell_type": "code",
   "execution_count": 38,
   "id": "1b7f53af",
   "metadata": {},
   "outputs": [
    {
     "data": {
      "text/plain": [
       "HS-grad         7973\n",
       "Some-college    4948\n",
       "Bachelors       4022\n",
       "Masters         1253\n",
       "Assoc-voc       1086\n",
       "Assoc-acdm       780\n",
       "11th             651\n",
       "10th             607\n",
       "9th              389\n",
       "Prof-school      318\n",
       "12th             276\n",
       "Doctorate        253\n",
       "Name: education, dtype: int64"
      ]
     },
     "execution_count": 38,
     "metadata": {},
     "output_type": "execute_result"
    }
   ],
   "source": [
    "df['education'].value_counts()\n",
    "#No missing values"
   ]
  },
  {
   "cell_type": "code",
   "execution_count": 40,
   "id": "4b781c8c",
   "metadata": {},
   "outputs": [
    {
     "data": {
      "text/plain": [
       "Married-civ-spouse       10773\n",
       "Never-married             6852\n",
       "Divorced                  3398\n",
       "Separated                  741\n",
       "Widowed                    510\n",
       "Married-spouse-absent      268\n",
       "Married-AF-spouse           14\n",
       "Name: marital.status, dtype: int64"
      ]
     },
     "execution_count": 40,
     "metadata": {},
     "output_type": "execute_result"
    }
   ],
   "source": [
    "df['marital.status'].value_counts()\n",
    "#No missing values"
   ]
  },
  {
   "cell_type": "code",
   "execution_count": 42,
   "id": "2853521c",
   "metadata": {},
   "outputs": [
    {
     "data": {
      "text/plain": [
       "Craft-repair         3307\n",
       "Exec-managerial      3021\n",
       "Prof-specialty       2998\n",
       "Adm-clerical         2938\n",
       "Sales                2309\n",
       "Other-service        1769\n",
       "Machine-op-inspct    1604\n",
       "Transport-moving     1072\n",
       "Handlers-cleaners     936\n",
       "?                     860\n",
       "Tech-support          733\n",
       "Protective-serv       484\n",
       "Farming-fishing       468\n",
       "Priv-house-serv        50\n",
       "Armed-Forces            7\n",
       "Name: occupation, dtype: int64"
      ]
     },
     "execution_count": 42,
     "metadata": {},
     "output_type": "execute_result"
    }
   ],
   "source": [
    "df['occupation'].value_counts()\n",
    "#860 missing values"
   ]
  },
  {
   "cell_type": "code",
   "execution_count": 43,
   "id": "22978dac",
   "metadata": {},
   "outputs": [
    {
     "data": {
      "text/plain": [
       "Husband           9565\n",
       "Not-in-family     5955\n",
       "Own-child         2802\n",
       "Unmarried         2548\n",
       "Wife              1064\n",
       "Other-relative     622\n",
       "Name: relationship, dtype: int64"
      ]
     },
     "execution_count": 43,
     "metadata": {},
     "output_type": "execute_result"
    }
   ],
   "source": [
    "df['relationship'].value_counts()\n",
    "#No missing values"
   ]
  },
  {
   "cell_type": "code",
   "execution_count": 44,
   "id": "3cb500bd",
   "metadata": {},
   "outputs": [
    {
     "data": {
      "text/plain": [
       "White                 19115\n",
       "Black                  2336\n",
       "Asian-Pac-Islander      719\n",
       "Amer-Indian-Eskimo      217\n",
       "Other                   169\n",
       "Name: race, dtype: int64"
      ]
     },
     "execution_count": 44,
     "metadata": {},
     "output_type": "execute_result"
    }
   ],
   "source": [
    "df['race'].value_counts()\n",
    "#No missing values"
   ]
  },
  {
   "cell_type": "code",
   "execution_count": 45,
   "id": "27c5e5f6",
   "metadata": {},
   "outputs": [
    {
     "data": {
      "text/plain": [
       "Male      15425\n",
       "Female     7131\n",
       "Name: sex, dtype: int64"
      ]
     },
     "execution_count": 45,
     "metadata": {},
     "output_type": "execute_result"
    }
   ],
   "source": [
    "df['sex'].value_counts()\n",
    "#No missing values"
   ]
  },
  {
   "cell_type": "code",
   "execution_count": 46,
   "id": "5f370565",
   "metadata": {},
   "outputs": [
    {
     "data": {
      "text/plain": [
       "United-States                 20457\n",
       "?                               391\n",
       "Mexico                          284\n",
       "Philippines                     150\n",
       "Germany                          99\n",
       "Canada                           76\n",
       "Puerto-Rico                      73\n",
       "India                            70\n",
       "England                          62\n",
       "Cuba                             62\n",
       "Jamaica                          62\n",
       "El-Salvador                      54\n",
       "China                            51\n",
       "Vietnam                          49\n",
       "South                            46\n",
       "Japan                            43\n",
       "Italy                            43\n",
       "Poland                           43\n",
       "Columbia                         42\n",
       "Dominican-Republic               40\n",
       "Taiwan                           32\n",
       "Guatemala                        31\n",
       "Iran                             29\n",
       "Haiti                            25\n",
       "France                           22\n",
       "Portugal                         22\n",
       "Peru                             20\n",
       "Nicaragua                        19\n",
       "Ireland                          19\n",
       "Cambodia                         16\n",
       "Hong                             16\n",
       "Ecuador                          15\n",
       "Greece                           14\n",
       "Trinadad&Tobago                  13\n",
       "Laos                             13\n",
       "Yugoslavia                       12\n",
       "Thailand                         10\n",
       "Scotland                          9\n",
       "Outlying-US(Guam-USVI-etc)        9\n",
       "Honduras                          7\n",
       "Hungary                           5\n",
       "Holand-Netherlands                1\n",
       "Name: native.country, dtype: int64"
      ]
     },
     "execution_count": 46,
     "metadata": {},
     "output_type": "execute_result"
    }
   ],
   "source": [
    "df['native.country'].value_counts()\n",
    "#391 missing values"
   ]
  },
  {
   "cell_type": "code",
   "execution_count": 48,
   "id": "031737ac",
   "metadata": {},
   "outputs": [],
   "source": [
    "df.loc[df[\"occupation\"] == \"?\", \"occupation\"] = 'Other-service'\n",
    "#For occupation, we will put the missing values into other services"
   ]
  },
  {
   "cell_type": "code",
   "execution_count": 49,
   "id": "012c3a81",
   "metadata": {},
   "outputs": [
    {
     "data": {
      "text/plain": [
       "Craft-repair         3307\n",
       "Exec-managerial      3021\n",
       "Prof-specialty       2998\n",
       "Adm-clerical         2938\n",
       "Other-service        2629\n",
       "Sales                2309\n",
       "Machine-op-inspct    1604\n",
       "Transport-moving     1072\n",
       "Handlers-cleaners     936\n",
       "Tech-support          733\n",
       "Protective-serv       484\n",
       "Farming-fishing       468\n",
       "Priv-house-serv        50\n",
       "Armed-Forces            7\n",
       "Name: occupation, dtype: int64"
      ]
     },
     "execution_count": 49,
     "metadata": {},
     "output_type": "execute_result"
    }
   ],
   "source": [
    "df.occupation.value_counts()\n",
    "#No more missing values"
   ]
  },
  {
   "cell_type": "code",
   "execution_count": 52,
   "id": "f5589660",
   "metadata": {},
   "outputs": [],
   "source": [
    "df.loc[df[\"native.country\"] == \"?\", \"native.country\"] = 'United-States'\n",
    "#We'll put the missing values into the US, since around 300 extra additions to US won't hurt our algorithm"
   ]
  },
  {
   "cell_type": "code",
   "execution_count": 53,
   "id": "92f62f27",
   "metadata": {},
   "outputs": [
    {
     "data": {
      "text/plain": [
       "United-States                 20848\n",
       "Mexico                          284\n",
       "Philippines                     150\n",
       "Germany                          99\n",
       "Canada                           76\n",
       "Puerto-Rico                      73\n",
       "India                            70\n",
       "England                          62\n",
       "Cuba                             62\n",
       "Jamaica                          62\n",
       "El-Salvador                      54\n",
       "China                            51\n",
       "Vietnam                          49\n",
       "South                            46\n",
       "Japan                            43\n",
       "Italy                            43\n",
       "Poland                           43\n",
       "Columbia                         42\n",
       "Dominican-Republic               40\n",
       "Taiwan                           32\n",
       "Guatemala                        31\n",
       "Iran                             29\n",
       "Haiti                            25\n",
       "Portugal                         22\n",
       "France                           22\n",
       "Peru                             20\n",
       "Nicaragua                        19\n",
       "Ireland                          19\n",
       "Cambodia                         16\n",
       "Hong                             16\n",
       "Ecuador                          15\n",
       "Greece                           14\n",
       "Trinadad&Tobago                  13\n",
       "Laos                             13\n",
       "Yugoslavia                       12\n",
       "Thailand                         10\n",
       "Scotland                          9\n",
       "Outlying-US(Guam-USVI-etc)        9\n",
       "Honduras                          7\n",
       "Hungary                           5\n",
       "Holand-Netherlands                1\n",
       "Name: native.country, dtype: int64"
      ]
     },
     "execution_count": 53,
     "metadata": {},
     "output_type": "execute_result"
    }
   ],
   "source": [
    "df['native.country'].value_counts()\n",
    "#No more missing values"
   ]
  },
  {
   "cell_type": "code",
   "execution_count": 63,
   "id": "fc3230c1",
   "metadata": {},
   "outputs": [
    {
     "data": {
      "text/plain": [
       "[Text(0.5, 0, 'Work Class'), Text(0, 0.5, 'Income >$50k probability')]"
      ]
     },
     "execution_count": 63,
     "metadata": {},
     "output_type": "execute_result"
    },
    {
     "data": {
      "image/png": "[encoded data removed]",
      "text/plain": [
       "<Figure size 1152x432 with 1 Axes>"
      ]
     },
     "metadata": {
      "needs_background": "light"
     },
     "output_type": "display_data"
    }
   ],
   "source": [
    "plt.figure(figsize=(16,6))\n",
    "ax = sbn.barplot(x=df.workclass,y=df.Income_Level)\n",
    "ax.set(xlabel='Work Class',ylabel='Income >$50k probability')\n",
    "#Comparing workclass with income"
   ]
  },
  {
   "cell_type": "code",
   "execution_count": 64,
   "id": "f10dfa5f",
   "metadata": {},
   "outputs": [
    {
     "data": {
      "text/plain": [
       "[Text(0.5, 0, 'Education Level'), Text(0, 0.5, 'Income >$50k probability')]"
      ]
     },
     "execution_count": 64,
     "metadata": {},
     "output_type": "execute_result"
    },
    {
     "data": {
      "image/png": "[encoded data removed]",
      "text/plain": [
       "<Figure size 1152x432 with 1 Axes>"
      ]
     },
     "metadata": {
      "needs_background": "light"
     },
     "output_type": "display_data"
    }
   ],
   "source": [
    "plt.figure(figsize=(16,6))\n",
    "ax = sbn.barplot(x=df.education,y=df.Income_Level)\n",
    "ax.set(xlabel='Education Level',ylabel='Income >$50k probability')\n",
    "#Comparing Education with income"
   ]
  },
  {
   "cell_type": "code",
   "execution_count": 67,
   "id": "8d3611b4",
   "metadata": {},
   "outputs": [
    {
     "data": {
      "text/plain": [
       "[Text(0.5, 0, 'Marital Status'), Text(0, 0.5, 'Income >$50k probability')]"
      ]
     },
     "execution_count": 67,
     "metadata": {},
     "output_type": "execute_result"
    },
    {
     "data": {
      "image/png": "[encoded data removed]",
      "text/plain": [
       "<Figure size 1152x432 with 1 Axes>"
      ]
     },
     "metadata": {
      "needs_background": "light"
     },
     "output_type": "display_data"
    }
   ],
   "source": [
    "plt.figure(figsize=(16,6))\n",
    "ax = sbn.barplot(x=df['marital.status'],y=df.Income_Level)\n",
    "ax.set(xlabel='Marital Status',ylabel='Income >$50k probability')\n",
    "#Comparing Marital Status with income"
   ]
  },
  {
   "cell_type": "code",
   "execution_count": 71,
   "id": "14f18aba",
   "metadata": {},
   "outputs": [
    {
     "data": {
      "text/plain": [
       "[Text(0.5, 0, 'Occupation'), Text(0, 0.5, 'Income >$50k probability')]"
      ]
     },
     "execution_count": 71,
     "metadata": {},
     "output_type": "execute_result"
    },
    {
     "data": {
      "image/png": "[encoded data removed]",
      "text/plain": [
       "<Figure size 1800x432 with 1 Axes>"
      ]
     },
     "metadata": {
      "needs_background": "light"
     },
     "output_type": "display_data"
    }
   ],
   "source": [
    "plt.figure(figsize=(25,6))\n",
    "ax = sbn.barplot(x=df.occupation,y=df.Income_Level)\n",
    "ax.set(xlabel='Occupation',ylabel='Income >$50k probability')\n",
    "#Comparing Occupation with income"
   ]
  },
  {
   "cell_type": "code",
   "execution_count": 73,
   "id": "8bc092c7",
   "metadata": {},
   "outputs": [
    {
     "data": {
      "text/plain": [
       "[Text(0.5, 0, 'Relationship Status'), Text(0, 0.5, 'Income >$50k probability')]"
      ]
     },
     "execution_count": 73,
     "metadata": {},
     "output_type": "execute_result"
    },
    {
     "data": {
      "image/png": "[encoded data removed]",
      "text/plain": [
       "<Figure size 1152x432 with 1 Axes>"
      ]
     },
     "metadata": {
      "needs_background": "light"
     },
     "output_type": "display_data"
    }
   ],
   "source": [
    "plt.figure(figsize=(16,6))\n",
    "ax = sbn.barplot(x=df.relationship,y=df.Income_Level)\n",
    "ax.set(xlabel='Relationship Status',ylabel='Income >$50k probability')\n",
    "#Comparing relationship with income"
   ]
  },
  {
   "cell_type": "code",
   "execution_count": 75,
   "id": "506b6b77",
   "metadata": {},
   "outputs": [
    {
     "data": {
      "text/plain": [
       "[Text(0.5, 0, 'Race'), Text(0, 0.5, 'Income >$50k probability')]"
      ]
     },
     "execution_count": 75,
     "metadata": {},
     "output_type": "execute_result"
    },
    {
     "data": {
      "image/png": "[encoded data removed]",
      "text/plain": [
       "<Figure size 1152x432 with 1 Axes>"
      ]
     },
     "metadata": {
      "needs_background": "light"
     },
     "output_type": "display_data"
    }
   ],
   "source": [
    "plt.figure(figsize=(16,6))\n",
    "ax = sbn.barplot(x=df.race,y=df.Income_Level)\n",
    "ax.set(xlabel='Race',ylabel='Income >$50k probability')\n",
    "#Comparing Race with income"
   ]
  },
  {
   "cell_type": "code",
   "execution_count": 76,
   "id": "2e702e9a",
   "metadata": {},
   "outputs": [
    {
     "data": {
      "text/plain": [
       "[Text(0.5, 0, 'Sex'), Text(0, 0.5, 'Income >$50k probability')]"
      ]
     },
     "execution_count": 76,
     "metadata": {},
     "output_type": "execute_result"
    },
    {
     "data": {
      "image/png": "[encoded data removed]",
      "text/plain": [
       "<Figure size 1152x432 with 1 Axes>"
      ]
     },
     "metadata": {
      "needs_background": "light"
     },
     "output_type": "display_data"
    }
   ],
   "source": [
    "plt.figure(figsize=(16,6))\n",
    "ax = sbn.barplot(x=df.sex,y=df.Income_Level)\n",
    "ax.set(xlabel='Sex',ylabel='Income >$50k probability')\n",
    "#Comparing Sex with income"
   ]
  },
  {
   "cell_type": "code",
   "execution_count": 82,
   "id": "79115781",
   "metadata": {},
   "outputs": [
    {
     "data": {
      "text/plain": [
       "[Text(0.5, 0, 'Native Country'), Text(0, 0.5, 'Income >$50k probability')]"
      ]
     },
     "execution_count": 82,
     "metadata": {},
     "output_type": "execute_result"
    },
    {
     "data": {
      "image/png": "[encoded data removed]",
      "text/plain": [
       "<Figure size 3600x1440 with 1 Axes>"
      ]
     },
     "metadata": {
      "needs_background": "light"
     },
     "output_type": "display_data"
    }
   ],
   "source": [
    "plt.figure(figsize=(50,20))\n",
    "ax = sbn.barplot(x=df['native.country'],y=df.Income_Level)\n",
    "ax.set(xlabel='Native Country',ylabel='Income >$50k probability')\n",
    "#Comparing Native Country with income"
   ]
  },
  {
   "cell_type": "markdown",
   "id": "bfd1331a",
   "metadata": {},
   "source": [
    "# Feature Engineering"
   ]
  },
  {
   "cell_type": "code",
   "execution_count": 83,
   "id": "27a00087",
   "metadata": {},
   "outputs": [
    {
     "data": {
      "text/plain": [
       "Index(['age', 'workclass', 'fnlwgt', 'education', 'education.num',\n",
       "       'marital.status', 'occupation', 'relationship', 'race', 'sex',\n",
       "       'capital.gain', 'capital.loss', 'hours.per.week', 'native.country',\n",
       "       'Income_Level'],\n",
       "      dtype='object')"
      ]
     },
     "execution_count": 83,
     "metadata": {},
     "output_type": "execute_result"
    }
   ],
   "source": [
    "df.columns\n",
    "#Feature engineering to select columns and simplify categorical variables"
   ]
  },
  {
   "cell_type": "code",
   "execution_count": 84,
   "id": "ea15c8dd",
   "metadata": {},
   "outputs": [
    {
     "data": {
      "text/html": [
       "<div>\n",
       "<style scoped>\n",
       "    .dataframe tbody tr th:only-of-type {\n",
       "        vertical-align: middle;\n",
       "    }\n",
       "\n",
       "    .dataframe tbody tr th {\n",
       "        vertical-align: top;\n",
       "    }\n",
       "\n",
       "    .dataframe thead th {\n",
       "        text-align: right;\n",
       "    }\n",
       "</style>\n",
       "<table border=\"1\" class=\"dataframe\">\n",
       "  <thead>\n",
       "    <tr style=\"text-align: right;\">\n",
       "      <th></th>\n",
       "      <th>education</th>\n",
       "      <th>education.num</th>\n",
       "    </tr>\n",
       "  </thead>\n",
       "  <tbody>\n",
       "    <tr>\n",
       "      <th>4</th>\n",
       "      <td>Some-college</td>\n",
       "      <td>10</td>\n",
       "    </tr>\n",
       "    <tr>\n",
       "      <th>5</th>\n",
       "      <td>HS-grad</td>\n",
       "      <td>9</td>\n",
       "    </tr>\n",
       "    <tr>\n",
       "      <th>6</th>\n",
       "      <td>10th</td>\n",
       "      <td>6</td>\n",
       "    </tr>\n",
       "    <tr>\n",
       "      <th>8</th>\n",
       "      <td>HS-grad</td>\n",
       "      <td>9</td>\n",
       "    </tr>\n",
       "    <tr>\n",
       "      <th>10</th>\n",
       "      <td>Doctorate</td>\n",
       "      <td>16</td>\n",
       "    </tr>\n",
       "    <tr>\n",
       "      <th>...</th>\n",
       "      <td>...</td>\n",
       "      <td>...</td>\n",
       "    </tr>\n",
       "    <tr>\n",
       "      <th>32555</th>\n",
       "      <td>Masters</td>\n",
       "      <td>14</td>\n",
       "    </tr>\n",
       "    <tr>\n",
       "      <th>32556</th>\n",
       "      <td>Some-college</td>\n",
       "      <td>10</td>\n",
       "    </tr>\n",
       "    <tr>\n",
       "      <th>32557</th>\n",
       "      <td>Assoc-acdm</td>\n",
       "      <td>12</td>\n",
       "    </tr>\n",
       "    <tr>\n",
       "      <th>32558</th>\n",
       "      <td>HS-grad</td>\n",
       "      <td>9</td>\n",
       "    </tr>\n",
       "    <tr>\n",
       "      <th>32559</th>\n",
       "      <td>HS-grad</td>\n",
       "      <td>9</td>\n",
       "    </tr>\n",
       "  </tbody>\n",
       "</table>\n",
       "<p>21699 rows × 2 columns</p>\n",
       "</div>"
      ],
      "text/plain": [
       "          education  education.num\n",
       "4      Some-college             10\n",
       "5           HS-grad              9\n",
       "6              10th              6\n",
       "8           HS-grad              9\n",
       "10        Doctorate             16\n",
       "...             ...            ...\n",
       "32555       Masters             14\n",
       "32556  Some-college             10\n",
       "32557    Assoc-acdm             12\n",
       "32558       HS-grad              9\n",
       "32559       HS-grad              9\n",
       "\n",
       "[21699 rows x 2 columns]"
      ]
     },
     "execution_count": 84,
     "metadata": {},
     "output_type": "execute_result"
    }
   ],
   "source": [
    "df[['education','education.num']]\n",
    "#We can drop the education column, since we have an education.num columns"
   ]
  },
  {
   "cell_type": "code",
   "execution_count": 86,
   "id": "25b3a734",
   "metadata": {},
   "outputs": [],
   "source": [
    "df.drop(columns='education',inplace=True)\n",
    "#Dropping the education columns"
   ]
  },
  {
   "cell_type": "code",
   "execution_count": 87,
   "id": "af522cd4",
   "metadata": {},
   "outputs": [
    {
     "data": {
      "text/html": [
       "<div>\n",
       "<style scoped>\n",
       "    .dataframe tbody tr th:only-of-type {\n",
       "        vertical-align: middle;\n",
       "    }\n",
       "\n",
       "    .dataframe tbody tr th {\n",
       "        vertical-align: top;\n",
       "    }\n",
       "\n",
       "    .dataframe thead th {\n",
       "        text-align: right;\n",
       "    }\n",
       "</style>\n",
       "<table border=\"1\" class=\"dataframe\">\n",
       "  <thead>\n",
       "    <tr style=\"text-align: right;\">\n",
       "      <th></th>\n",
       "      <th>age</th>\n",
       "      <th>workclass</th>\n",
       "      <th>fnlwgt</th>\n",
       "      <th>education.num</th>\n",
       "      <th>marital.status</th>\n",
       "      <th>occupation</th>\n",
       "      <th>relationship</th>\n",
       "      <th>race</th>\n",
       "      <th>sex</th>\n",
       "      <th>capital.gain</th>\n",
       "      <th>capital.loss</th>\n",
       "      <th>hours.per.week</th>\n",
       "      <th>native.country</th>\n",
       "      <th>Income_Level</th>\n",
       "    </tr>\n",
       "  </thead>\n",
       "  <tbody>\n",
       "    <tr>\n",
       "      <th>4</th>\n",
       "      <td>41</td>\n",
       "      <td>Private</td>\n",
       "      <td>264663</td>\n",
       "      <td>10</td>\n",
       "      <td>Separated</td>\n",
       "      <td>Prof-specialty</td>\n",
       "      <td>Own-child</td>\n",
       "      <td>White</td>\n",
       "      <td>Female</td>\n",
       "      <td>0</td>\n",
       "      <td>3900</td>\n",
       "      <td>40</td>\n",
       "      <td>United-States</td>\n",
       "      <td>0</td>\n",
       "    </tr>\n",
       "    <tr>\n",
       "      <th>5</th>\n",
       "      <td>34</td>\n",
       "      <td>Private</td>\n",
       "      <td>216864</td>\n",
       "      <td>9</td>\n",
       "      <td>Divorced</td>\n",
       "      <td>Other-service</td>\n",
       "      <td>Unmarried</td>\n",
       "      <td>White</td>\n",
       "      <td>Female</td>\n",
       "      <td>0</td>\n",
       "      <td>3770</td>\n",
       "      <td>45</td>\n",
       "      <td>United-States</td>\n",
       "      <td>0</td>\n",
       "    </tr>\n",
       "    <tr>\n",
       "      <th>6</th>\n",
       "      <td>38</td>\n",
       "      <td>Private</td>\n",
       "      <td>150601</td>\n",
       "      <td>6</td>\n",
       "      <td>Separated</td>\n",
       "      <td>Adm-clerical</td>\n",
       "      <td>Unmarried</td>\n",
       "      <td>White</td>\n",
       "      <td>Male</td>\n",
       "      <td>0</td>\n",
       "      <td>3770</td>\n",
       "      <td>40</td>\n",
       "      <td>United-States</td>\n",
       "      <td>0</td>\n",
       "    </tr>\n",
       "    <tr>\n",
       "      <th>8</th>\n",
       "      <td>68</td>\n",
       "      <td>Federal-gov</td>\n",
       "      <td>422013</td>\n",
       "      <td>9</td>\n",
       "      <td>Divorced</td>\n",
       "      <td>Prof-specialty</td>\n",
       "      <td>Not-in-family</td>\n",
       "      <td>White</td>\n",
       "      <td>Female</td>\n",
       "      <td>0</td>\n",
       "      <td>3683</td>\n",
       "      <td>40</td>\n",
       "      <td>United-States</td>\n",
       "      <td>0</td>\n",
       "    </tr>\n",
       "    <tr>\n",
       "      <th>10</th>\n",
       "      <td>45</td>\n",
       "      <td>Private</td>\n",
       "      <td>172274</td>\n",
       "      <td>16</td>\n",
       "      <td>Divorced</td>\n",
       "      <td>Prof-specialty</td>\n",
       "      <td>Unmarried</td>\n",
       "      <td>Black</td>\n",
       "      <td>Female</td>\n",
       "      <td>0</td>\n",
       "      <td>3004</td>\n",
       "      <td>35</td>\n",
       "      <td>United-States</td>\n",
       "      <td>1</td>\n",
       "    </tr>\n",
       "  </tbody>\n",
       "</table>\n",
       "</div>"
      ],
      "text/plain": [
       "    age    workclass  fnlwgt  education.num marital.status      occupation  \\\n",
       "4    41      Private  264663             10      Separated  Prof-specialty   \n",
       "5    34      Private  216864              9       Divorced   Other-service   \n",
       "6    38      Private  150601              6      Separated    Adm-clerical   \n",
       "8    68  Federal-gov  422013              9       Divorced  Prof-specialty   \n",
       "10   45      Private  172274             16       Divorced  Prof-specialty   \n",
       "\n",
       "     relationship   race     sex  capital.gain  capital.loss  hours.per.week  \\\n",
       "4       Own-child  White  Female             0          3900              40   \n",
       "5       Unmarried  White  Female             0          3770              45   \n",
       "6       Unmarried  White    Male             0          3770              40   \n",
       "8   Not-in-family  White  Female             0          3683              40   \n",
       "10      Unmarried  Black  Female             0          3004              35   \n",
       "\n",
       "   native.country  Income_Level  \n",
       "4   United-States             0  \n",
       "5   United-States             0  \n",
       "6   United-States             0  \n",
       "8   United-States             0  \n",
       "10  United-States             1  "
      ]
     },
     "execution_count": 87,
     "metadata": {},
     "output_type": "execute_result"
    }
   ],
   "source": [
    "df.head()\n",
    "#Checking for more features to be corrected"
   ]
  },
  {
   "cell_type": "code",
   "execution_count": 88,
   "id": "a00ee069",
   "metadata": {},
   "outputs": [],
   "source": [
    "df['marital.status']= df['marital.status'].replace(['Never-married','Divorced','Separated','Widowed'],0)\n",
    "df['marital.status']= df['marital.status'].replace(['Married-civ-spouse','Married-spouse-absent','Married-AF-spouse'],1)\n",
    "#We will convert marital status into binary variables"
   ]
  },
  {
   "cell_type": "code",
   "execution_count": 89,
   "id": "6513b943",
   "metadata": {},
   "outputs": [
    {
     "data": {
      "text/plain": [
       "0    10931\n",
       "1    10768\n",
       "Name: marital.status, dtype: int64"
      ]
     },
     "execution_count": 89,
     "metadata": {},
     "output_type": "execute_result"
    }
   ],
   "source": [
    "df['marital.status'].value_counts()\n",
    "#Marital status is now a binary variable"
   ]
  },
  {
   "cell_type": "code",
   "execution_count": 90,
   "id": "f5d75120",
   "metadata": {},
   "outputs": [
    {
     "data": {
      "text/plain": [
       "Private             16278\n",
       "Local-gov            1616\n",
       "Self-emp-not-inc     1347\n",
       "State-gov             989\n",
       "Federal-gov           825\n",
       "Self-emp-inc          638\n",
       "Without-pay             3\n",
       "Never-worked            3\n",
       "Name: workclass, dtype: int64"
      ]
     },
     "execution_count": 90,
     "metadata": {},
     "output_type": "execute_result"
    }
   ],
   "source": [
    "df.workclass.value_counts()\n",
    "#We can convert this into 3 categories, private employees, government employees, and self employed"
   ]
  },
  {
   "cell_type": "code",
   "execution_count": 92,
   "id": "d2a207f1",
   "metadata": {},
   "outputs": [],
   "source": [
    "df['workclass'] = df['workclass'].replace(['Local-gov','State-gov','Federal-gov'],'Gov')\n",
    "df['workclass'] = df['workclass'].replace(['Self-emp-not-inc','Self-emp-inc'],'Self')\n",
    "#Merging government and self employed into separete categories"
   ]
  },
  {
   "cell_type": "code",
   "execution_count": 96,
   "id": "8d7aa7b6",
   "metadata": {},
   "outputs": [],
   "source": [
    "drop_indices = df[(df['workclass']=='Without-pay')|(df['workclass']=='Never-worked')].index\n",
    "df.drop(index=drop_indices, inplace = True)\n",
    "#Dropping without pay and never worked, just 6 observations"
   ]
  },
  {
   "cell_type": "code",
   "execution_count": 98,
   "id": "4aab0539",
   "metadata": {},
   "outputs": [],
   "source": [
    "df_workclass = pd.get_dummies(df['workclass'])\n",
    "#Getting dummies for the columns"
   ]
  },
  {
   "cell_type": "code",
   "execution_count": 104,
   "id": "718f8c84",
   "metadata": {},
   "outputs": [],
   "source": [
    "df=pd.concat([df,df_workclass],axis=1)\n",
    "#Concatenating the two df's"
   ]
  },
  {
   "cell_type": "code",
   "execution_count": 107,
   "id": "bb3281ba",
   "metadata": {},
   "outputs": [
    {
     "data": {
      "text/html": [
       "<div>\n",
       "<style scoped>\n",
       "    .dataframe tbody tr th:only-of-type {\n",
       "        vertical-align: middle;\n",
       "    }\n",
       "\n",
       "    .dataframe tbody tr th {\n",
       "        vertical-align: top;\n",
       "    }\n",
       "\n",
       "    .dataframe thead th {\n",
       "        text-align: right;\n",
       "    }\n",
       "</style>\n",
       "<table border=\"1\" class=\"dataframe\">\n",
       "  <thead>\n",
       "    <tr style=\"text-align: right;\">\n",
       "      <th></th>\n",
       "      <th>workclass</th>\n",
       "      <th>Gov</th>\n",
       "      <th>Private</th>\n",
       "      <th>Self</th>\n",
       "    </tr>\n",
       "  </thead>\n",
       "  <tbody>\n",
       "    <tr>\n",
       "      <th>4</th>\n",
       "      <td>Private</td>\n",
       "      <td>0</td>\n",
       "      <td>1</td>\n",
       "      <td>0</td>\n",
       "    </tr>\n",
       "    <tr>\n",
       "      <th>5</th>\n",
       "      <td>Private</td>\n",
       "      <td>0</td>\n",
       "      <td>1</td>\n",
       "      <td>0</td>\n",
       "    </tr>\n",
       "    <tr>\n",
       "      <th>6</th>\n",
       "      <td>Private</td>\n",
       "      <td>0</td>\n",
       "      <td>1</td>\n",
       "      <td>0</td>\n",
       "    </tr>\n",
       "    <tr>\n",
       "      <th>8</th>\n",
       "      <td>Gov</td>\n",
       "      <td>1</td>\n",
       "      <td>0</td>\n",
       "      <td>0</td>\n",
       "    </tr>\n",
       "    <tr>\n",
       "      <th>10</th>\n",
       "      <td>Private</td>\n",
       "      <td>0</td>\n",
       "      <td>1</td>\n",
       "      <td>0</td>\n",
       "    </tr>\n",
       "    <tr>\n",
       "      <th>11</th>\n",
       "      <td>Self</td>\n",
       "      <td>0</td>\n",
       "      <td>0</td>\n",
       "      <td>1</td>\n",
       "    </tr>\n",
       "    <tr>\n",
       "      <th>15</th>\n",
       "      <td>Private</td>\n",
       "      <td>0</td>\n",
       "      <td>1</td>\n",
       "      <td>0</td>\n",
       "    </tr>\n",
       "    <tr>\n",
       "      <th>17</th>\n",
       "      <td>Private</td>\n",
       "      <td>0</td>\n",
       "      <td>1</td>\n",
       "      <td>0</td>\n",
       "    </tr>\n",
       "    <tr>\n",
       "      <th>18</th>\n",
       "      <td>Private</td>\n",
       "      <td>0</td>\n",
       "      <td>1</td>\n",
       "      <td>0</td>\n",
       "    </tr>\n",
       "    <tr>\n",
       "      <th>19</th>\n",
       "      <td>Private</td>\n",
       "      <td>0</td>\n",
       "      <td>1</td>\n",
       "      <td>0</td>\n",
       "    </tr>\n",
       "    <tr>\n",
       "      <th>20</th>\n",
       "      <td>Private</td>\n",
       "      <td>0</td>\n",
       "      <td>1</td>\n",
       "      <td>0</td>\n",
       "    </tr>\n",
       "    <tr>\n",
       "      <th>21</th>\n",
       "      <td>Private</td>\n",
       "      <td>0</td>\n",
       "      <td>1</td>\n",
       "      <td>0</td>\n",
       "    </tr>\n",
       "    <tr>\n",
       "      <th>23</th>\n",
       "      <td>Private</td>\n",
       "      <td>0</td>\n",
       "      <td>1</td>\n",
       "      <td>0</td>\n",
       "    </tr>\n",
       "    <tr>\n",
       "      <th>25</th>\n",
       "      <td>Private</td>\n",
       "      <td>0</td>\n",
       "      <td>1</td>\n",
       "      <td>0</td>\n",
       "    </tr>\n",
       "    <tr>\n",
       "      <th>28</th>\n",
       "      <td>Self</td>\n",
       "      <td>0</td>\n",
       "      <td>0</td>\n",
       "      <td>1</td>\n",
       "    </tr>\n",
       "    <tr>\n",
       "      <th>30</th>\n",
       "      <td>Private</td>\n",
       "      <td>0</td>\n",
       "      <td>1</td>\n",
       "      <td>0</td>\n",
       "    </tr>\n",
       "    <tr>\n",
       "      <th>31</th>\n",
       "      <td>Self</td>\n",
       "      <td>0</td>\n",
       "      <td>0</td>\n",
       "      <td>1</td>\n",
       "    </tr>\n",
       "    <tr>\n",
       "      <th>33</th>\n",
       "      <td>Private</td>\n",
       "      <td>0</td>\n",
       "      <td>1</td>\n",
       "      <td>0</td>\n",
       "    </tr>\n",
       "    <tr>\n",
       "      <th>34</th>\n",
       "      <td>Self</td>\n",
       "      <td>0</td>\n",
       "      <td>0</td>\n",
       "      <td>1</td>\n",
       "    </tr>\n",
       "    <tr>\n",
       "      <th>36</th>\n",
       "      <td>Private</td>\n",
       "      <td>0</td>\n",
       "      <td>1</td>\n",
       "      <td>0</td>\n",
       "    </tr>\n",
       "  </tbody>\n",
       "</table>\n",
       "</div>"
      ],
      "text/plain": [
       "   workclass  Gov  Private  Self\n",
       "4    Private    0        1     0\n",
       "5    Private    0        1     0\n",
       "6    Private    0        1     0\n",
       "8        Gov    1        0     0\n",
       "10   Private    0        1     0\n",
       "11      Self    0        0     1\n",
       "15   Private    0        1     0\n",
       "17   Private    0        1     0\n",
       "18   Private    0        1     0\n",
       "19   Private    0        1     0\n",
       "20   Private    0        1     0\n",
       "21   Private    0        1     0\n",
       "23   Private    0        1     0\n",
       "25   Private    0        1     0\n",
       "28      Self    0        0     1\n",
       "30   Private    0        1     0\n",
       "31      Self    0        0     1\n",
       "33   Private    0        1     0\n",
       "34      Self    0        0     1\n",
       "36   Private    0        1     0"
      ]
     },
     "execution_count": 107,
     "metadata": {},
     "output_type": "execute_result"
    }
   ],
   "source": [
    "df[['workclass','Gov','Private','Self']].head(20)\n",
    "#Checking if concatenation is correct"
   ]
  },
  {
   "cell_type": "code",
   "execution_count": 128,
   "id": "de35ebf2",
   "metadata": {},
   "outputs": [],
   "source": [
    "df.drop(columns= 'workclass',inplace=True)\n",
    "#We can remove the workclass columns"
   ]
  },
  {
   "cell_type": "code",
   "execution_count": 109,
   "id": "aec3fa25",
   "metadata": {},
   "outputs": [],
   "source": [
    "df.drop(columns= 'relationship',inplace=True)\n",
    "#We can remove the relationship columns"
   ]
  },
  {
   "cell_type": "code",
   "execution_count": 111,
   "id": "eba068ad",
   "metadata": {},
   "outputs": [],
   "source": [
    "df['native.country']= df['native.country'].replace('United-States',1)\n",
    "#Native Country can be set to US or Outside US, US = 1"
   ]
  },
  {
   "cell_type": "code",
   "execution_count": 117,
   "id": "70f935ca",
   "metadata": {},
   "outputs": [],
   "source": [
    "df.loc[df['native.country'] != 1, 'native.country'] = 0\n",
    "#Outside US = 2"
   ]
  },
  {
   "cell_type": "code",
   "execution_count": 132,
   "id": "da6e581c",
   "metadata": {},
   "outputs": [],
   "source": [
    "df.loc[df['sex']== 'Male','sex']= 1\n",
    "df.loc[df['sex']== 'Female', 'sex']=0\n",
    "#Making sex binary"
   ]
  },
  {
   "cell_type": "code",
   "execution_count": 133,
   "id": "c192c8bb",
   "metadata": {},
   "outputs": [
    {
     "data": {
      "text/plain": [
       "1    14948\n",
       "0     6745\n",
       "Name: sex, dtype: int64"
      ]
     },
     "execution_count": 133,
     "metadata": {},
     "output_type": "execute_result"
    }
   ],
   "source": [
    "df.sex.value_counts()\n",
    "#Sex is now a binary variable"
   ]
  },
  {
   "cell_type": "code",
   "execution_count": 135,
   "id": "434cd396",
   "metadata": {},
   "outputs": [],
   "source": [
    "df.drop(columns = 'occupation', inplace=True)\n",
    "#We can drop the occupation columns, since it's arbitrary"
   ]
  },
  {
   "cell_type": "code",
   "execution_count": 136,
   "id": "0751eef4",
   "metadata": {},
   "outputs": [
    {
     "data": {
      "text/html": [
       "<div>\n",
       "<style scoped>\n",
       "    .dataframe tbody tr th:only-of-type {\n",
       "        vertical-align: middle;\n",
       "    }\n",
       "\n",
       "    .dataframe tbody tr th {\n",
       "        vertical-align: top;\n",
       "    }\n",
       "\n",
       "    .dataframe thead th {\n",
       "        text-align: right;\n",
       "    }\n",
       "</style>\n",
       "<table border=\"1\" class=\"dataframe\">\n",
       "  <thead>\n",
       "    <tr style=\"text-align: right;\">\n",
       "      <th></th>\n",
       "      <th>age</th>\n",
       "      <th>fnlwgt</th>\n",
       "      <th>education.num</th>\n",
       "      <th>marital.status</th>\n",
       "      <th>race</th>\n",
       "      <th>sex</th>\n",
       "      <th>capital.gain</th>\n",
       "      <th>capital.loss</th>\n",
       "      <th>hours.per.week</th>\n",
       "      <th>native.country</th>\n",
       "      <th>Income_Level</th>\n",
       "      <th>Gov</th>\n",
       "      <th>Private</th>\n",
       "      <th>Self</th>\n",
       "    </tr>\n",
       "  </thead>\n",
       "  <tbody>\n",
       "    <tr>\n",
       "      <th>4</th>\n",
       "      <td>41</td>\n",
       "      <td>264663</td>\n",
       "      <td>10</td>\n",
       "      <td>0</td>\n",
       "      <td>White</td>\n",
       "      <td>0</td>\n",
       "      <td>0</td>\n",
       "      <td>3900</td>\n",
       "      <td>40</td>\n",
       "      <td>1</td>\n",
       "      <td>0</td>\n",
       "      <td>0</td>\n",
       "      <td>1</td>\n",
       "      <td>0</td>\n",
       "    </tr>\n",
       "    <tr>\n",
       "      <th>5</th>\n",
       "      <td>34</td>\n",
       "      <td>216864</td>\n",
       "      <td>9</td>\n",
       "      <td>0</td>\n",
       "      <td>White</td>\n",
       "      <td>0</td>\n",
       "      <td>0</td>\n",
       "      <td>3770</td>\n",
       "      <td>45</td>\n",
       "      <td>1</td>\n",
       "      <td>0</td>\n",
       "      <td>0</td>\n",
       "      <td>1</td>\n",
       "      <td>0</td>\n",
       "    </tr>\n",
       "    <tr>\n",
       "      <th>6</th>\n",
       "      <td>38</td>\n",
       "      <td>150601</td>\n",
       "      <td>6</td>\n",
       "      <td>0</td>\n",
       "      <td>White</td>\n",
       "      <td>1</td>\n",
       "      <td>0</td>\n",
       "      <td>3770</td>\n",
       "      <td>40</td>\n",
       "      <td>1</td>\n",
       "      <td>0</td>\n",
       "      <td>0</td>\n",
       "      <td>1</td>\n",
       "      <td>0</td>\n",
       "    </tr>\n",
       "    <tr>\n",
       "      <th>8</th>\n",
       "      <td>68</td>\n",
       "      <td>422013</td>\n",
       "      <td>9</td>\n",
       "      <td>0</td>\n",
       "      <td>White</td>\n",
       "      <td>0</td>\n",
       "      <td>0</td>\n",
       "      <td>3683</td>\n",
       "      <td>40</td>\n",
       "      <td>1</td>\n",
       "      <td>0</td>\n",
       "      <td>1</td>\n",
       "      <td>0</td>\n",
       "      <td>0</td>\n",
       "    </tr>\n",
       "    <tr>\n",
       "      <th>10</th>\n",
       "      <td>45</td>\n",
       "      <td>172274</td>\n",
       "      <td>16</td>\n",
       "      <td>0</td>\n",
       "      <td>Black</td>\n",
       "      <td>0</td>\n",
       "      <td>0</td>\n",
       "      <td>3004</td>\n",
       "      <td>35</td>\n",
       "      <td>1</td>\n",
       "      <td>1</td>\n",
       "      <td>0</td>\n",
       "      <td>1</td>\n",
       "      <td>0</td>\n",
       "    </tr>\n",
       "  </tbody>\n",
       "</table>\n",
       "</div>"
      ],
      "text/plain": [
       "    age  fnlwgt  education.num  marital.status   race sex  capital.gain  \\\n",
       "4    41  264663             10               0  White   0             0   \n",
       "5    34  216864              9               0  White   0             0   \n",
       "6    38  150601              6               0  White   1             0   \n",
       "8    68  422013              9               0  White   0             0   \n",
       "10   45  172274             16               0  Black   0             0   \n",
       "\n",
       "    capital.loss  hours.per.week native.country  Income_Level  Gov  Private  \\\n",
       "4           3900              40              1             0    0        1   \n",
       "5           3770              45              1             0    0        1   \n",
       "6           3770              40              1             0    0        1   \n",
       "8           3683              40              1             0    1        0   \n",
       "10          3004              35              1             1    0        1   \n",
       "\n",
       "    Self  \n",
       "4      0  \n",
       "5      0  \n",
       "6      0  \n",
       "8      0  \n",
       "10     0  "
      ]
     },
     "execution_count": 136,
     "metadata": {},
     "output_type": "execute_result"
    }
   ],
   "source": [
    "df.head()"
   ]
  },
  {
   "cell_type": "code",
   "execution_count": 137,
   "id": "3dcabc0f",
   "metadata": {},
   "outputs": [
    {
     "data": {
      "text/plain": [
       "White                 18434\n",
       "Black                  2205\n",
       "Asian-Pac-Islander      693\n",
       "Amer-Indian-Eskimo      205\n",
       "Other                   156\n",
       "Name: race, dtype: int64"
      ]
     },
     "execution_count": 137,
     "metadata": {},
     "output_type": "execute_result"
    }
   ],
   "source": [
    "df.race.value_counts()\n",
    "#We can create dummy variables for race"
   ]
  },
  {
   "cell_type": "code",
   "execution_count": 138,
   "id": "214ebbe2",
   "metadata": {},
   "outputs": [],
   "source": [
    "df_race = pd.get_dummies(df['race'])\n",
    "#Getting dummies"
   ]
  },
  {
   "cell_type": "code",
   "execution_count": 139,
   "id": "a817b773",
   "metadata": {},
   "outputs": [],
   "source": [
    "df = pd.concat([df,df_race],axis = 1)\n",
    "#Concatenating dataframes"
   ]
  },
  {
   "cell_type": "code",
   "execution_count": 140,
   "id": "20ed8701",
   "metadata": {},
   "outputs": [
    {
     "data": {
      "text/html": [
       "<div>\n",
       "<style scoped>\n",
       "    .dataframe tbody tr th:only-of-type {\n",
       "        vertical-align: middle;\n",
       "    }\n",
       "\n",
       "    .dataframe tbody tr th {\n",
       "        vertical-align: top;\n",
       "    }\n",
       "\n",
       "    .dataframe thead th {\n",
       "        text-align: right;\n",
       "    }\n",
       "</style>\n",
       "<table border=\"1\" class=\"dataframe\">\n",
       "  <thead>\n",
       "    <tr style=\"text-align: right;\">\n",
       "      <th></th>\n",
       "      <th>age</th>\n",
       "      <th>fnlwgt</th>\n",
       "      <th>education.num</th>\n",
       "      <th>marital.status</th>\n",
       "      <th>race</th>\n",
       "      <th>sex</th>\n",
       "      <th>capital.gain</th>\n",
       "      <th>capital.loss</th>\n",
       "      <th>hours.per.week</th>\n",
       "      <th>native.country</th>\n",
       "      <th>Income_Level</th>\n",
       "      <th>Gov</th>\n",
       "      <th>Private</th>\n",
       "      <th>Self</th>\n",
       "      <th>Amer-Indian-Eskimo</th>\n",
       "      <th>Asian-Pac-Islander</th>\n",
       "      <th>Black</th>\n",
       "      <th>Other</th>\n",
       "      <th>White</th>\n",
       "    </tr>\n",
       "  </thead>\n",
       "  <tbody>\n",
       "    <tr>\n",
       "      <th>4</th>\n",
       "      <td>41</td>\n",
       "      <td>264663</td>\n",
       "      <td>10</td>\n",
       "      <td>0</td>\n",
       "      <td>White</td>\n",
       "      <td>0</td>\n",
       "      <td>0</td>\n",
       "      <td>3900</td>\n",
       "      <td>40</td>\n",
       "      <td>1</td>\n",
       "      <td>0</td>\n",
       "      <td>0</td>\n",
       "      <td>1</td>\n",
       "      <td>0</td>\n",
       "      <td>0</td>\n",
       "      <td>0</td>\n",
       "      <td>0</td>\n",
       "      <td>0</td>\n",
       "      <td>1</td>\n",
       "    </tr>\n",
       "    <tr>\n",
       "      <th>5</th>\n",
       "      <td>34</td>\n",
       "      <td>216864</td>\n",
       "      <td>9</td>\n",
       "      <td>0</td>\n",
       "      <td>White</td>\n",
       "      <td>0</td>\n",
       "      <td>0</td>\n",
       "      <td>3770</td>\n",
       "      <td>45</td>\n",
       "      <td>1</td>\n",
       "      <td>0</td>\n",
       "      <td>0</td>\n",
       "      <td>1</td>\n",
       "      <td>0</td>\n",
       "      <td>0</td>\n",
       "      <td>0</td>\n",
       "      <td>0</td>\n",
       "      <td>0</td>\n",
       "      <td>1</td>\n",
       "    </tr>\n",
       "    <tr>\n",
       "      <th>6</th>\n",
       "      <td>38</td>\n",
       "      <td>150601</td>\n",
       "      <td>6</td>\n",
       "      <td>0</td>\n",
       "      <td>White</td>\n",
       "      <td>1</td>\n",
       "      <td>0</td>\n",
       "      <td>3770</td>\n",
       "      <td>40</td>\n",
       "      <td>1</td>\n",
       "      <td>0</td>\n",
       "      <td>0</td>\n",
       "      <td>1</td>\n",
       "      <td>0</td>\n",
       "      <td>0</td>\n",
       "      <td>0</td>\n",
       "      <td>0</td>\n",
       "      <td>0</td>\n",
       "      <td>1</td>\n",
       "    </tr>\n",
       "    <tr>\n",
       "      <th>8</th>\n",
       "      <td>68</td>\n",
       "      <td>422013</td>\n",
       "      <td>9</td>\n",
       "      <td>0</td>\n",
       "      <td>White</td>\n",
       "      <td>0</td>\n",
       "      <td>0</td>\n",
       "      <td>3683</td>\n",
       "      <td>40</td>\n",
       "      <td>1</td>\n",
       "      <td>0</td>\n",
       "      <td>1</td>\n",
       "      <td>0</td>\n",
       "      <td>0</td>\n",
       "      <td>0</td>\n",
       "      <td>0</td>\n",
       "      <td>0</td>\n",
       "      <td>0</td>\n",
       "      <td>1</td>\n",
       "    </tr>\n",
       "    <tr>\n",
       "      <th>10</th>\n",
       "      <td>45</td>\n",
       "      <td>172274</td>\n",
       "      <td>16</td>\n",
       "      <td>0</td>\n",
       "      <td>Black</td>\n",
       "      <td>0</td>\n",
       "      <td>0</td>\n",
       "      <td>3004</td>\n",
       "      <td>35</td>\n",
       "      <td>1</td>\n",
       "      <td>1</td>\n",
       "      <td>0</td>\n",
       "      <td>1</td>\n",
       "      <td>0</td>\n",
       "      <td>0</td>\n",
       "      <td>0</td>\n",
       "      <td>1</td>\n",
       "      <td>0</td>\n",
       "      <td>0</td>\n",
       "    </tr>\n",
       "  </tbody>\n",
       "</table>\n",
       "</div>"
      ],
      "text/plain": [
       "    age  fnlwgt  education.num  marital.status   race sex  capital.gain  \\\n",
       "4    41  264663             10               0  White   0             0   \n",
       "5    34  216864              9               0  White   0             0   \n",
       "6    38  150601              6               0  White   1             0   \n",
       "8    68  422013              9               0  White   0             0   \n",
       "10   45  172274             16               0  Black   0             0   \n",
       "\n",
       "    capital.loss  hours.per.week native.country  Income_Level  Gov  Private  \\\n",
       "4           3900              40              1             0    0        1   \n",
       "5           3770              45              1             0    0        1   \n",
       "6           3770              40              1             0    0        1   \n",
       "8           3683              40              1             0    1        0   \n",
       "10          3004              35              1             1    0        1   \n",
       "\n",
       "    Self  Amer-Indian-Eskimo  Asian-Pac-Islander  Black  Other  White  \n",
       "4      0                   0                   0      0      0      1  \n",
       "5      0                   0                   0      0      0      1  \n",
       "6      0                   0                   0      0      0      1  \n",
       "8      0                   0                   0      0      0      1  \n",
       "10     0                   0                   0      1      0      0  "
      ]
     },
     "execution_count": 140,
     "metadata": {},
     "output_type": "execute_result"
    }
   ],
   "source": [
    "df.head()\n",
    "#Checking if concatenation is done correctly"
   ]
  },
  {
   "cell_type": "code",
   "execution_count": 141,
   "id": "5a91019f",
   "metadata": {},
   "outputs": [],
   "source": [
    "df.drop(columns='race',inplace=True)\n",
    "#Dropping Race column"
   ]
  },
  {
   "cell_type": "code",
   "execution_count": 142,
   "id": "e0f285e7",
   "metadata": {
    "scrolled": true
   },
   "outputs": [
    {
     "data": {
      "text/html": [
       "<div>\n",
       "<style scoped>\n",
       "    .dataframe tbody tr th:only-of-type {\n",
       "        vertical-align: middle;\n",
       "    }\n",
       "\n",
       "    .dataframe tbody tr th {\n",
       "        vertical-align: top;\n",
       "    }\n",
       "\n",
       "    .dataframe thead th {\n",
       "        text-align: right;\n",
       "    }\n",
       "</style>\n",
       "<table border=\"1\" class=\"dataframe\">\n",
       "  <thead>\n",
       "    <tr style=\"text-align: right;\">\n",
       "      <th></th>\n",
       "      <th>age</th>\n",
       "      <th>fnlwgt</th>\n",
       "      <th>education.num</th>\n",
       "      <th>marital.status</th>\n",
       "      <th>sex</th>\n",
       "      <th>capital.gain</th>\n",
       "      <th>capital.loss</th>\n",
       "      <th>hours.per.week</th>\n",
       "      <th>native.country</th>\n",
       "      <th>Income_Level</th>\n",
       "      <th>Gov</th>\n",
       "      <th>Private</th>\n",
       "      <th>Self</th>\n",
       "      <th>Amer-Indian-Eskimo</th>\n",
       "      <th>Asian-Pac-Islander</th>\n",
       "      <th>Black</th>\n",
       "      <th>Other</th>\n",
       "      <th>White</th>\n",
       "    </tr>\n",
       "  </thead>\n",
       "  <tbody>\n",
       "    <tr>\n",
       "      <th>4</th>\n",
       "      <td>41</td>\n",
       "      <td>264663</td>\n",
       "      <td>10</td>\n",
       "      <td>0</td>\n",
       "      <td>0</td>\n",
       "      <td>0</td>\n",
       "      <td>3900</td>\n",
       "      <td>40</td>\n",
       "      <td>1</td>\n",
       "      <td>0</td>\n",
       "      <td>0</td>\n",
       "      <td>1</td>\n",
       "      <td>0</td>\n",
       "      <td>0</td>\n",
       "      <td>0</td>\n",
       "      <td>0</td>\n",
       "      <td>0</td>\n",
       "      <td>1</td>\n",
       "    </tr>\n",
       "    <tr>\n",
       "      <th>5</th>\n",
       "      <td>34</td>\n",
       "      <td>216864</td>\n",
       "      <td>9</td>\n",
       "      <td>0</td>\n",
       "      <td>0</td>\n",
       "      <td>0</td>\n",
       "      <td>3770</td>\n",
       "      <td>45</td>\n",
       "      <td>1</td>\n",
       "      <td>0</td>\n",
       "      <td>0</td>\n",
       "      <td>1</td>\n",
       "      <td>0</td>\n",
       "      <td>0</td>\n",
       "      <td>0</td>\n",
       "      <td>0</td>\n",
       "      <td>0</td>\n",
       "      <td>1</td>\n",
       "    </tr>\n",
       "    <tr>\n",
       "      <th>6</th>\n",
       "      <td>38</td>\n",
       "      <td>150601</td>\n",
       "      <td>6</td>\n",
       "      <td>0</td>\n",
       "      <td>1</td>\n",
       "      <td>0</td>\n",
       "      <td>3770</td>\n",
       "      <td>40</td>\n",
       "      <td>1</td>\n",
       "      <td>0</td>\n",
       "      <td>0</td>\n",
       "      <td>1</td>\n",
       "      <td>0</td>\n",
       "      <td>0</td>\n",
       "      <td>0</td>\n",
       "      <td>0</td>\n",
       "      <td>0</td>\n",
       "      <td>1</td>\n",
       "    </tr>\n",
       "    <tr>\n",
       "      <th>8</th>\n",
       "      <td>68</td>\n",
       "      <td>422013</td>\n",
       "      <td>9</td>\n",
       "      <td>0</td>\n",
       "      <td>0</td>\n",
       "      <td>0</td>\n",
       "      <td>3683</td>\n",
       "      <td>40</td>\n",
       "      <td>1</td>\n",
       "      <td>0</td>\n",
       "      <td>1</td>\n",
       "      <td>0</td>\n",
       "      <td>0</td>\n",
       "      <td>0</td>\n",
       "      <td>0</td>\n",
       "      <td>0</td>\n",
       "      <td>0</td>\n",
       "      <td>1</td>\n",
       "    </tr>\n",
       "    <tr>\n",
       "      <th>10</th>\n",
       "      <td>45</td>\n",
       "      <td>172274</td>\n",
       "      <td>16</td>\n",
       "      <td>0</td>\n",
       "      <td>0</td>\n",
       "      <td>0</td>\n",
       "      <td>3004</td>\n",
       "      <td>35</td>\n",
       "      <td>1</td>\n",
       "      <td>1</td>\n",
       "      <td>0</td>\n",
       "      <td>1</td>\n",
       "      <td>0</td>\n",
       "      <td>0</td>\n",
       "      <td>0</td>\n",
       "      <td>1</td>\n",
       "      <td>0</td>\n",
       "      <td>0</td>\n",
       "    </tr>\n",
       "  </tbody>\n",
       "</table>\n",
       "</div>"
      ],
      "text/plain": [
       "    age  fnlwgt  education.num  marital.status sex  capital.gain  \\\n",
       "4    41  264663             10               0   0             0   \n",
       "5    34  216864              9               0   0             0   \n",
       "6    38  150601              6               0   1             0   \n",
       "8    68  422013              9               0   0             0   \n",
       "10   45  172274             16               0   0             0   \n",
       "\n",
       "    capital.loss  hours.per.week native.country  Income_Level  Gov  Private  \\\n",
       "4           3900              40              1             0    0        1   \n",
       "5           3770              45              1             0    0        1   \n",
       "6           3770              40              1             0    0        1   \n",
       "8           3683              40              1             0    1        0   \n",
       "10          3004              35              1             1    0        1   \n",
       "\n",
       "    Self  Amer-Indian-Eskimo  Asian-Pac-Islander  Black  Other  White  \n",
       "4      0                   0                   0      0      0      1  \n",
       "5      0                   0                   0      0      0      1  \n",
       "6      0                   0                   0      0      0      1  \n",
       "8      0                   0                   0      0      0      1  \n",
       "10     0                   0                   0      1      0      0  "
      ]
     },
     "execution_count": 142,
     "metadata": {},
     "output_type": "execute_result"
    }
   ],
   "source": [
    "df.head()\n",
    "#Our dataframe is now ready for analysis"
   ]
  },
  {
   "cell_type": "markdown",
   "id": "e48ebc9c",
   "metadata": {},
   "source": [
    "# Comparing Different Models - Naive Bayes, Logistic Regression, Decision Trees and Random Forest Trees"
   ]
  },
  {
   "cell_type": "code",
   "execution_count": 207,
   "id": "94715bb4",
   "metadata": {},
   "outputs": [],
   "source": [
    "y = df.Income_Level\n",
    "#Target variables"
   ]
  },
  {
   "cell_type": "code",
   "execution_count": 208,
   "id": "62c092a1",
   "metadata": {},
   "outputs": [],
   "source": [
    "X = df.loc[:,df.columns != 'Income_Level']\n",
    "#Predictor variables"
   ]
  },
  {
   "cell_type": "markdown",
   "id": "9486605a",
   "metadata": {},
   "source": [
    "Gaussian Naive Bayes"
   ]
  },
  {
   "cell_type": "code",
   "execution_count": 152,
   "id": "b3c2e387",
   "metadata": {},
   "outputs": [
    {
     "data": {
      "text/plain": [
       "array([0.71929016, 0.8580318 , 0.73450104, 0.73467036, 0.73467036])"
      ]
     },
     "execution_count": 152,
     "metadata": {},
     "output_type": "execute_result"
    }
   ],
   "source": [
    "gnb = GaussianNB()\n",
    "scores = cross_val_score(gnb, X, y , cv=5)\n",
    "scores\n",
    "#Accuracy with Naive Bayes"
   ]
  },
  {
   "cell_type": "code",
   "execution_count": 153,
   "id": "4b4f72d1",
   "metadata": {},
   "outputs": [
    {
     "data": {
      "text/plain": [
       "0.7562327421392029"
      ]
     },
     "execution_count": 153,
     "metadata": {},
     "output_type": "execute_result"
    }
   ],
   "source": [
    "Mean_Accuracy_GNB = scores.mean()\n",
    "Mean_Accuracy_GNB\n",
    "#76% Average Accuracy"
   ]
  },
  {
   "cell_type": "code",
   "execution_count": 158,
   "id": "ce66735c",
   "metadata": {},
   "outputs": [
    {
     "data": {
      "text/plain": [
       "array([0.71929016, 0.81954367, 0.7340401 , 0.73490088, 0.73467036])"
      ]
     },
     "execution_count": 158,
     "metadata": {},
     "output_type": "execute_result"
    }
   ],
   "source": [
    "LR = LogisticRegression(random_state=0)\n",
    "scores = cross_val_score(LR, X,y, cv=5)\n",
    "scores"
   ]
  },
  {
   "cell_type": "code",
   "execution_count": 160,
   "id": "bb477a9f",
   "metadata": {},
   "outputs": [
    {
     "data": {
      "text/plain": [
       "0.7484890330136429"
      ]
     },
     "execution_count": 160,
     "metadata": {},
     "output_type": "execute_result"
    }
   ],
   "source": [
    "Mean_Accuracy_LR = scores.mean()\n",
    "Mean_Accuracy_LR \n",
    "#75% Average Accuracy"
   ]
  },
  {
   "cell_type": "code",
   "execution_count": 168,
   "id": "294582a7",
   "metadata": {},
   "outputs": [
    {
     "data": {
      "text/plain": [
       "array([0.72205577, 0.75316893, 0.74809864, 0.7538036 , 0.75633933])"
      ]
     },
     "execution_count": 168,
     "metadata": {},
     "output_type": "execute_result"
    }
   ],
   "source": [
    "from sklearn import tree\n",
    "DT = tree.DecisionTreeClassifier()\n",
    "scores = cross_val_score(DT,X,y,cv=5)\n",
    "scores"
   ]
  },
  {
   "cell_type": "code",
   "execution_count": 169,
   "id": "8e0ad8e2",
   "metadata": {},
   "outputs": [
    {
     "data": {
      "text/plain": [
       "0.7466932538798343"
      ]
     },
     "execution_count": 169,
     "metadata": {},
     "output_type": "execute_result"
    }
   ],
   "source": [
    "Mean_Accuracy_DT = scores.mean()\n",
    "Mean_Accuracy_DT\n",
    "#75% Average Accuracy"
   ]
  },
  {
   "cell_type": "code",
   "execution_count": 171,
   "id": "b7cc4d52",
   "metadata": {},
   "outputs": [
    {
     "data": {
      "text/plain": [
       "array([0.75017285, 0.7856649 , 0.7849735 , 0.79875519, 0.78446289])"
      ]
     },
     "execution_count": 171,
     "metadata": {},
     "output_type": "execute_result"
    }
   ],
   "source": [
    "from sklearn.ensemble import RandomForestClassifier\n",
    "RFC = RandomForestClassifier()\n",
    "scores = cross_val_score(RFC,X,y,cv=5)\n",
    "scores"
   ]
  },
  {
   "cell_type": "code",
   "execution_count": 172,
   "id": "4b29356b",
   "metadata": {},
   "outputs": [
    {
     "data": {
      "text/plain": [
       "0.7808058639351392"
      ]
     },
     "execution_count": 172,
     "metadata": {},
     "output_type": "execute_result"
    }
   ],
   "source": [
    "Mean_Accuracy_RFC = scores.mean()\n",
    "Mean_Accuracy_RFC\n",
    "#Model gives us a 78% accuracy"
   ]
  },
  {
   "cell_type": "markdown",
   "id": "6c476bc6",
   "metadata": {},
   "source": [
    "### Going on the basis of accuracy, predicted using cross validation, a random forest tree should be our algorithm for the model"
   ]
  },
  {
   "cell_type": "markdown",
   "id": "0219956c",
   "metadata": {},
   "source": [
    "# Training the Random Forest Tree Model and Resampling data to get best accuracy and necessary statistics"
   ]
  },
  {
   "cell_type": "code",
   "execution_count": 174,
   "id": "822c2fe9",
   "metadata": {},
   "outputs": [],
   "source": [
    "X_train, X_test, y_train, y_test = train_test_split(X, y, test_size=0.3, random_state=42)"
   ]
  },
  {
   "cell_type": "code",
   "execution_count": 193,
   "id": "3d9d47cd",
   "metadata": {},
   "outputs": [],
   "source": [
    "RFC = RandomForestClassifier(class_weight='balanced')"
   ]
  },
  {
   "cell_type": "code",
   "execution_count": 194,
   "id": "b8ef72dc",
   "metadata": {},
   "outputs": [
    {
     "data": {
      "text/html": [
       "<style>#sk-container-id-2 {color: black;background-color: white;}#sk-container-id-2 pre{padding: 0;}#sk-container-id-2 div.sk-toggleable {background-color: white;}#sk-container-id-2 label.sk-toggleable__label {cursor: pointer;display: block;width: 100%;margin-bottom: 0;padding: 0.3em;box-sizing: border-box;text-align: center;}#sk-container-id-2 label.sk-toggleable__label-arrow:before {content: \"▸\";float: left;margin-right: 0.25em;color: #696969;}#sk-container-id-2 label.sk-toggleable__label-arrow:hover:before {color: black;}#sk-container-id-2 div.sk-estimator:hover label.sk-toggleable__label-arrow:before {color: black;}#sk-container-id-2 div.sk-toggleable__content {max-height: 0;max-width: 0;overflow: hidden;text-align: left;background-color: #f0f8ff;}#sk-container-id-2 div.sk-toggleable__content pre {margin: 0.2em;color: black;border-radius: 0.25em;background-color: #f0f8ff;}#sk-container-id-2 input.sk-toggleable__control:checked~div.sk-toggleable__content {max-height: 200px;max-width: 100%;overflow: auto;}#sk-container-id-2 input.sk-toggleable__control:checked~label.sk-toggleable__label-arrow:before {content: \"▾\";}#sk-container-id-2 div.sk-estimator input.sk-toggleable__control:checked~label.sk-toggleable__label {background-color: #d4ebff;}#sk-container-id-2 div.sk-label input.sk-toggleable__control:checked~label.sk-toggleable__label {background-color: #d4ebff;}#sk-container-id-2 input.sk-hidden--visually {border: 0;clip: rect(1px 1px 1px 1px);clip: rect(1px, 1px, 1px, 1px);height: 1px;margin: -1px;overflow: hidden;padding: 0;position: absolute;width: 1px;}#sk-container-id-2 div.sk-estimator {font-family: monospace;background-color: #f0f8ff;border: 1px dotted black;border-radius: 0.25em;box-sizing: border-box;margin-bottom: 0.5em;}#sk-container-id-2 div.sk-estimator:hover {background-color: #d4ebff;}#sk-container-id-2 div.sk-parallel-item::after {content: \"\";width: 100%;border-bottom: 1px solid gray;flex-grow: 1;}#sk-container-id-2 div.sk-label:hover label.sk-toggleable__label {background-color: #d4ebff;}#sk-container-id-2 div.sk-serial::before {content: \"\";position: absolute;border-left: 1px solid gray;box-sizing: border-box;top: 0;bottom: 0;left: 50%;z-index: 0;}#sk-container-id-2 div.sk-serial {display: flex;flex-direction: column;align-items: center;background-color: white;padding-right: 0.2em;padding-left: 0.2em;position: relative;}#sk-container-id-2 div.sk-item {position: relative;z-index: 1;}#sk-container-id-2 div.sk-parallel {display: flex;align-items: stretch;justify-content: center;background-color: white;position: relative;}#sk-container-id-2 div.sk-item::before, #sk-container-id-2 div.sk-parallel-item::before {content: \"\";position: absolute;border-left: 1px solid gray;box-sizing: border-box;top: 0;bottom: 0;left: 50%;z-index: -1;}#sk-container-id-2 div.sk-parallel-item {display: flex;flex-direction: column;z-index: 1;position: relative;background-color: white;}#sk-container-id-2 div.sk-parallel-item:first-child::after {align-self: flex-end;width: 50%;}#sk-container-id-2 div.sk-parallel-item:last-child::after {align-self: flex-start;width: 50%;}#sk-container-id-2 div.sk-parallel-item:only-child::after {width: 0;}#sk-container-id-2 div.sk-dashed-wrapped {border: 1px dashed gray;margin: 0 0.4em 0.5em 0.4em;box-sizing: border-box;padding-bottom: 0.4em;background-color: white;}#sk-container-id-2 div.sk-label label {font-family: monospace;font-weight: bold;display: inline-block;line-height: 1.2em;}#sk-container-id-2 div.sk-label-container {text-align: center;}#sk-container-id-2 div.sk-container {/* jupyter's `normalize.less` sets `[hidden] { display: none; }` but bootstrap.min.css set `[hidden] { display: none !important; }` so we also need the `!important` here to be able to override the default hidden behavior on the sphinx rendered scikit-learn.org. See: https://github.com/scikit-learn/scikit-learn/issues/21755 */display: inline-block !important;position: relative;}#sk-container-id-2 div.sk-text-repr-fallback {display: none;}</style><div id=\"sk-container-id-2\" class=\"sk-top-container\"><div class=\"sk-text-repr-fallback\"><pre>RandomForestClassifier(class_weight=&#x27;balanced&#x27;)</pre><b>In a Jupyter environment, please rerun this cell to show the HTML representation or trust the notebook. <br />On GitHub, the HTML representation is unable to render, please try loading this page with nbviewer.org.</b></div><div class=\"sk-container\" hidden><div class=\"sk-item\"><div class=\"sk-estimator sk-toggleable\"><input class=\"sk-toggleable__control sk-hidden--visually\" id=\"sk-estimator-id-2\" type=\"checkbox\" checked><label for=\"sk-estimator-id-2\" class=\"sk-toggleable__label sk-toggleable__label-arrow\">RandomForestClassifier</label><div class=\"sk-toggleable__content\"><pre>RandomForestClassifier(class_weight=&#x27;balanced&#x27;)</pre></div></div></div></div></div>"
      ],
      "text/plain": [
       "RandomForestClassifier(class_weight='balanced')"
      ]
     },
     "execution_count": 194,
     "metadata": {},
     "output_type": "execute_result"
    }
   ],
   "source": [
    "RFC.fit(X_train, y_train)"
   ]
  },
  {
   "cell_type": "code",
   "execution_count": 195,
   "id": "b7260e78",
   "metadata": {},
   "outputs": [],
   "source": [
    "predictions = RFC.predict(X_test)"
   ]
  },
  {
   "cell_type": "code",
   "execution_count": 196,
   "id": "81d35553",
   "metadata": {},
   "outputs": [
    {
     "data": {
      "text/plain": [
       "0.8186846957590658"
      ]
     },
     "execution_count": 196,
     "metadata": {},
     "output_type": "execute_result"
    }
   ],
   "source": [
    "accuracy_score(y_test, predictions,normalize=True, sample_weight=None)\n",
    "#An 82% accuracy using the standard test-train-split"
   ]
  },
  {
   "cell_type": "code",
   "execution_count": 197,
   "id": "d30a3394",
   "metadata": {},
   "outputs": [
    {
     "data": {
      "text/plain": [
       "array([[4308,  440],\n",
       "       [ 740, 1020]])"
      ]
     },
     "execution_count": 197,
     "metadata": {},
     "output_type": "execute_result"
    }
   ],
   "source": [
    "from sklearn.metrics import confusion_matrix\n",
    "confusion_matrix(y_test, predictions, labels = RFC.classes_)"
   ]
  },
  {
   "cell_type": "code",
   "execution_count": 198,
   "id": "e0eb30e5",
   "metadata": {},
   "outputs": [],
   "source": [
    "from sklearn.metrics import ConfusionMatrixDisplay"
   ]
  },
  {
   "cell_type": "code",
   "execution_count": 200,
   "id": "7ee6259c",
   "metadata": {},
   "outputs": [
    {
     "data": {
      "image/png": "[encoded data removed]",
      "text/plain": [
       "<Figure size 432x288 with 2 Axes>"
      ]
     },
     "metadata": {
      "needs_background": "light"
     },
     "output_type": "display_data"
    }
   ],
   "source": [
    "cm = confusion_matrix(y_test, predictions, labels=RFC.classes_)\n",
    "disp = ConfusionMatrixDisplay(confusion_matrix=cm, display_labels=RFC.classes_)\n",
    "disp.plot()\n",
    "plt.show()\n",
    "#Whilst the model is able to predict 0's accurately, 1's (Income over 50k) are not predicted very accurately"
   ]
  },
  {
   "cell_type": "code",
   "execution_count": 212,
   "id": "7abf3ac5",
   "metadata": {},
   "outputs": [
    {
     "data": {
      "text/html": [
       "<style>#sk-container-id-4 {color: black;background-color: white;}#sk-container-id-4 pre{padding: 0;}#sk-container-id-4 div.sk-toggleable {background-color: white;}#sk-container-id-4 label.sk-toggleable__label {cursor: pointer;display: block;width: 100%;margin-bottom: 0;padding: 0.3em;box-sizing: border-box;text-align: center;}#sk-container-id-4 label.sk-toggleable__label-arrow:before {content: \"▸\";float: left;margin-right: 0.25em;color: #696969;}#sk-container-id-4 label.sk-toggleable__label-arrow:hover:before {color: black;}#sk-container-id-4 div.sk-estimator:hover label.sk-toggleable__label-arrow:before {color: black;}#sk-container-id-4 div.sk-toggleable__content {max-height: 0;max-width: 0;overflow: hidden;text-align: left;background-color: #f0f8ff;}#sk-container-id-4 div.sk-toggleable__content pre {margin: 0.2em;color: black;border-radius: 0.25em;background-color: #f0f8ff;}#sk-container-id-4 input.sk-toggleable__control:checked~div.sk-toggleable__content {max-height: 200px;max-width: 100%;overflow: auto;}#sk-container-id-4 input.sk-toggleable__control:checked~label.sk-toggleable__label-arrow:before {content: \"▾\";}#sk-container-id-4 div.sk-estimator input.sk-toggleable__control:checked~label.sk-toggleable__label {background-color: #d4ebff;}#sk-container-id-4 div.sk-label input.sk-toggleable__control:checked~label.sk-toggleable__label {background-color: #d4ebff;}#sk-container-id-4 input.sk-hidden--visually {border: 0;clip: rect(1px 1px 1px 1px);clip: rect(1px, 1px, 1px, 1px);height: 1px;margin: -1px;overflow: hidden;padding: 0;position: absolute;width: 1px;}#sk-container-id-4 div.sk-estimator {font-family: monospace;background-color: #f0f8ff;border: 1px dotted black;border-radius: 0.25em;box-sizing: border-box;margin-bottom: 0.5em;}#sk-container-id-4 div.sk-estimator:hover {background-color: #d4ebff;}#sk-container-id-4 div.sk-parallel-item::after {content: \"\";width: 100%;border-bottom: 1px solid gray;flex-grow: 1;}#sk-container-id-4 div.sk-label:hover label.sk-toggleable__label {background-color: #d4ebff;}#sk-container-id-4 div.sk-serial::before {content: \"\";position: absolute;border-left: 1px solid gray;box-sizing: border-box;top: 0;bottom: 0;left: 50%;z-index: 0;}#sk-container-id-4 div.sk-serial {display: flex;flex-direction: column;align-items: center;background-color: white;padding-right: 0.2em;padding-left: 0.2em;position: relative;}#sk-container-id-4 div.sk-item {position: relative;z-index: 1;}#sk-container-id-4 div.sk-parallel {display: flex;align-items: stretch;justify-content: center;background-color: white;position: relative;}#sk-container-id-4 div.sk-item::before, #sk-container-id-4 div.sk-parallel-item::before {content: \"\";position: absolute;border-left: 1px solid gray;box-sizing: border-box;top: 0;bottom: 0;left: 50%;z-index: -1;}#sk-container-id-4 div.sk-parallel-item {display: flex;flex-direction: column;z-index: 1;position: relative;background-color: white;}#sk-container-id-4 div.sk-parallel-item:first-child::after {align-self: flex-end;width: 50%;}#sk-container-id-4 div.sk-parallel-item:last-child::after {align-self: flex-start;width: 50%;}#sk-container-id-4 div.sk-parallel-item:only-child::after {width: 0;}#sk-container-id-4 div.sk-dashed-wrapped {border: 1px dashed gray;margin: 0 0.4em 0.5em 0.4em;box-sizing: border-box;padding-bottom: 0.4em;background-color: white;}#sk-container-id-4 div.sk-label label {font-family: monospace;font-weight: bold;display: inline-block;line-height: 1.2em;}#sk-container-id-4 div.sk-label-container {text-align: center;}#sk-container-id-4 div.sk-container {/* jupyter's `normalize.less` sets `[hidden] { display: none; }` but bootstrap.min.css set `[hidden] { display: none !important; }` so we also need the `!important` here to be able to override the default hidden behavior on the sphinx rendered scikit-learn.org. See: https://github.com/scikit-learn/scikit-learn/issues/21755 */display: inline-block !important;position: relative;}#sk-container-id-4 div.sk-text-repr-fallback {display: none;}</style><div id=\"sk-container-id-4\" class=\"sk-top-container\"><div class=\"sk-text-repr-fallback\"><pre>RandomForestClassifier(random_state=42)</pre><b>In a Jupyter environment, please rerun this cell to show the HTML representation or trust the notebook. <br />On GitHub, the HTML representation is unable to render, please try loading this page with nbviewer.org.</b></div><div class=\"sk-container\" hidden><div class=\"sk-item\"><div class=\"sk-estimator sk-toggleable\"><input class=\"sk-toggleable__control sk-hidden--visually\" id=\"sk-estimator-id-4\" type=\"checkbox\" checked><label for=\"sk-estimator-id-4\" class=\"sk-toggleable__label sk-toggleable__label-arrow\">RandomForestClassifier</label><div class=\"sk-toggleable__content\"><pre>RandomForestClassifier(random_state=42)</pre></div></div></div></div></div>"
      ],
      "text/plain": [
       "RandomForestClassifier(random_state=42)"
      ]
     },
     "execution_count": 212,
     "metadata": {},
     "output_type": "execute_result"
    }
   ],
   "source": [
    "from imblearn.under_sampling import RandomUnderSampler\n",
    "from imblearn.over_sampling import RandomOverSampler\n",
    "\n",
    "rus = RandomUnderSampler()\n",
    "X_resampled, y_resampled = rus.fit_resample(X, y)\n",
    "# Undersample the majority class\n",
    "\n",
    "ros = RandomOverSampler()\n",
    "X_resampled, y_resampled = ros.fit_resample(X, y)\n",
    "# Oversample the minority class\n",
    "\n",
    "RFT = RandomForestClassifier(random_state=42)\n",
    "RFT.fit(X_resampled, y_resampled)\n",
    "# Train a Random Forest classifier on the resampled data"
   ]
  },
  {
   "cell_type": "code",
   "execution_count": 214,
   "id": "25d0cd2e",
   "metadata": {},
   "outputs": [],
   "source": [
    "#UnderSampling Majority's\n",
    "rus = RandomUnderSampler()\n",
    "X_resampled, y_resampled = rus.fit_resample(X,y)\n",
    "\n",
    "\n",
    "#OverSampling Minority's\n",
    "ros = RandomOverSampler()\n",
    "X_resampled, y_resampled = ros.fit_resample(X,y)"
   ]
  },
  {
   "cell_type": "code",
   "execution_count": 215,
   "id": "07f4a539",
   "metadata": {},
   "outputs": [],
   "source": [
    "X_train, X_test, y_train, y_test = train_test_split(X_resampled, y_resampled, test_size=0.3, random_state=42)"
   ]
  },
  {
   "cell_type": "code",
   "execution_count": 216,
   "id": "99d9a471",
   "metadata": {},
   "outputs": [
    {
     "data": {
      "text/html": [
       "<style>#sk-container-id-5 {color: black;background-color: white;}#sk-container-id-5 pre{padding: 0;}#sk-container-id-5 div.sk-toggleable {background-color: white;}#sk-container-id-5 label.sk-toggleable__label {cursor: pointer;display: block;width: 100%;margin-bottom: 0;padding: 0.3em;box-sizing: border-box;text-align: center;}#sk-container-id-5 label.sk-toggleable__label-arrow:before {content: \"▸\";float: left;margin-right: 0.25em;color: #696969;}#sk-container-id-5 label.sk-toggleable__label-arrow:hover:before {color: black;}#sk-container-id-5 div.sk-estimator:hover label.sk-toggleable__label-arrow:before {color: black;}#sk-container-id-5 div.sk-toggleable__content {max-height: 0;max-width: 0;overflow: hidden;text-align: left;background-color: #f0f8ff;}#sk-container-id-5 div.sk-toggleable__content pre {margin: 0.2em;color: black;border-radius: 0.25em;background-color: #f0f8ff;}#sk-container-id-5 input.sk-toggleable__control:checked~div.sk-toggleable__content {max-height: 200px;max-width: 100%;overflow: auto;}#sk-container-id-5 input.sk-toggleable__control:checked~label.sk-toggleable__label-arrow:before {content: \"▾\";}#sk-container-id-5 div.sk-estimator input.sk-toggleable__control:checked~label.sk-toggleable__label {background-color: #d4ebff;}#sk-container-id-5 div.sk-label input.sk-toggleable__control:checked~label.sk-toggleable__label {background-color: #d4ebff;}#sk-container-id-5 input.sk-hidden--visually {border: 0;clip: rect(1px 1px 1px 1px);clip: rect(1px, 1px, 1px, 1px);height: 1px;margin: -1px;overflow: hidden;padding: 0;position: absolute;width: 1px;}#sk-container-id-5 div.sk-estimator {font-family: monospace;background-color: #f0f8ff;border: 1px dotted black;border-radius: 0.25em;box-sizing: border-box;margin-bottom: 0.5em;}#sk-container-id-5 div.sk-estimator:hover {background-color: #d4ebff;}#sk-container-id-5 div.sk-parallel-item::after {content: \"\";width: 100%;border-bottom: 1px solid gray;flex-grow: 1;}#sk-container-id-5 div.sk-label:hover label.sk-toggleable__label {background-color: #d4ebff;}#sk-container-id-5 div.sk-serial::before {content: \"\";position: absolute;border-left: 1px solid gray;box-sizing: border-box;top: 0;bottom: 0;left: 50%;z-index: 0;}#sk-container-id-5 div.sk-serial {display: flex;flex-direction: column;align-items: center;background-color: white;padding-right: 0.2em;padding-left: 0.2em;position: relative;}#sk-container-id-5 div.sk-item {position: relative;z-index: 1;}#sk-container-id-5 div.sk-parallel {display: flex;align-items: stretch;justify-content: center;background-color: white;position: relative;}#sk-container-id-5 div.sk-item::before, #sk-container-id-5 div.sk-parallel-item::before {content: \"\";position: absolute;border-left: 1px solid gray;box-sizing: border-box;top: 0;bottom: 0;left: 50%;z-index: -1;}#sk-container-id-5 div.sk-parallel-item {display: flex;flex-direction: column;z-index: 1;position: relative;background-color: white;}#sk-container-id-5 div.sk-parallel-item:first-child::after {align-self: flex-end;width: 50%;}#sk-container-id-5 div.sk-parallel-item:last-child::after {align-self: flex-start;width: 50%;}#sk-container-id-5 div.sk-parallel-item:only-child::after {width: 0;}#sk-container-id-5 div.sk-dashed-wrapped {border: 1px dashed gray;margin: 0 0.4em 0.5em 0.4em;box-sizing: border-box;padding-bottom: 0.4em;background-color: white;}#sk-container-id-5 div.sk-label label {font-family: monospace;font-weight: bold;display: inline-block;line-height: 1.2em;}#sk-container-id-5 div.sk-label-container {text-align: center;}#sk-container-id-5 div.sk-container {/* jupyter's `normalize.less` sets `[hidden] { display: none; }` but bootstrap.min.css set `[hidden] { display: none !important; }` so we also need the `!important` here to be able to override the default hidden behavior on the sphinx rendered scikit-learn.org. See: https://github.com/scikit-learn/scikit-learn/issues/21755 */display: inline-block !important;position: relative;}#sk-container-id-5 div.sk-text-repr-fallback {display: none;}</style><div id=\"sk-container-id-5\" class=\"sk-top-container\"><div class=\"sk-text-repr-fallback\"><pre>RandomForestClassifier(random_state=42)</pre><b>In a Jupyter environment, please rerun this cell to show the HTML representation or trust the notebook. <br />On GitHub, the HTML representation is unable to render, please try loading this page with nbviewer.org.</b></div><div class=\"sk-container\" hidden><div class=\"sk-item\"><div class=\"sk-estimator sk-toggleable\"><input class=\"sk-toggleable__control sk-hidden--visually\" id=\"sk-estimator-id-5\" type=\"checkbox\" checked><label for=\"sk-estimator-id-5\" class=\"sk-toggleable__label sk-toggleable__label-arrow\">RandomForestClassifier</label><div class=\"sk-toggleable__content\"><pre>RandomForestClassifier(random_state=42)</pre></div></div></div></div></div>"
      ],
      "text/plain": [
       "RandomForestClassifier(random_state=42)"
      ]
     },
     "execution_count": 216,
     "metadata": {},
     "output_type": "execute_result"
    }
   ],
   "source": [
    "RFT = RandomForestClassifier(random_state=42)\n",
    "RFT.fit(X_train, y_train)\n"
   ]
  },
  {
   "cell_type": "code",
   "execution_count": 217,
   "id": "ca5106f4",
   "metadata": {},
   "outputs": [],
   "source": [
    "predictions = RFT.predict(X_test)"
   ]
  },
  {
   "cell_type": "code",
   "execution_count": 218,
   "id": "6fffe2d2",
   "metadata": {},
   "outputs": [
    {
     "data": {
      "text/plain": [
       "0.9009621418113365"
      ]
     },
     "execution_count": 218,
     "metadata": {},
     "output_type": "execute_result"
    }
   ],
   "source": [
    "accuracy_score(y_test, predictions)"
   ]
  },
  {
   "cell_type": "code",
   "execution_count": 219,
   "id": "f505c835",
   "metadata": {},
   "outputs": [],
   "source": [
    "cm = confusion_matrix(y_test, predictions, labels = RFT.classes_)"
   ]
  },
  {
   "cell_type": "code",
   "execution_count": 221,
   "id": "79f07138",
   "metadata": {},
   "outputs": [
    {
     "data": {
      "image/png": "[encoded data removed]",
      "text/plain": [
       "<Figure size 432x288 with 2 Axes>"
      ]
     },
     "metadata": {
      "needs_background": "light"
     },
     "output_type": "display_data"
    }
   ],
   "source": [
    "disp = ConfusionMatrixDisplay(confusion_matrix=cm, display_labels=RFC.classes_)\n",
    "disp.plot()\n",
    "plt.show()\n",
    "#Hence, by resampling the data, we are able to get a model that is much more accurate than the model built using regular data"
   ]
  },
  {
   "cell_type": "code",
   "execution_count": 242,
   "id": "754af9d6",
   "metadata": {},
   "outputs": [
    {
     "name": "stdout",
     "output_type": "stream",
     "text": [
      "True Positive Rate: [0.84610566 0.95600251]\n",
      "True Negative Rate: [0.95600251 0.84610566]\n",
      "Positive Prediction Values/Precision: [0.95072736 0.8609434 ]\n",
      "negative Prediction Value: [0.8609434  0.95072736]\n",
      "False Positive Rate: [0.04399749 0.15389434]\n",
      "False Negative Rate: [0.15389434 0.04399749]\n",
      "False Discovery Rate: [0.04927264 0.1390566 ]\n",
      "Overall Accuracy [0.90096214 0.90096214]\n"
     ]
    }
   ],
   "source": [
    "FP = cm.sum(axis=0) - np.diag(cm)\n",
    "FN = cm.sum(axis=1) - np.diag(cm)\n",
    "TP = np.diag(cm)\n",
    "TN = cm.sum() - (FP+FN+TP)\n",
    "\n",
    "# Sensitivity, hit rate, recall, or true positive rate\n",
    "TPR = TP/(TP+FN)\n",
    "# Specificity or true negative rate\n",
    "TNR = TN/(TN+FP) \n",
    "# Precision or positive predictive value\n",
    "PPV = TP/(TP+FP)\n",
    "# Negative predictive value\n",
    "NPV = TN/(TN+FN)\n",
    "# Fall out or false positive rate\n",
    "FPR = FP/(FP+TN)\n",
    "# False negative rate\n",
    "FNR = FN/(TP+FN)\n",
    "# False discovery rate\n",
    "FDR = FP/(TP+FP)\n",
    "\n",
    "print('True Positive Rate:', TPR)\n",
    "print('True Negative Rate:', TNR)\n",
    "print('Positive Prediction Values/Precision:',PPV)\n",
    "print('negative Prediction Value:', NPV)\n",
    "print('False Positive Rate:', FPR)\n",
    "print('False Negative Rate:', FNR)\n",
    "print('False Discovery Rate:', FDR)\n",
    "\n",
    "print('Overall Accuracy',(TP+TN)/(TP+FP+FN+TN))\n",
    "\n"
   ]
  },
  {
   "cell_type": "code",
   "execution_count": null,
   "id": "f2fe55ae",
   "metadata": {},
   "outputs": [],
   "source": []
  }
 ],
 "metadata": {
  "kernelspec": {
   "display_name": "Python 3 (ipykernel)",
   "language": "python",
   "name": "python3"
  },
  "language_info": {
   "codemirror_mode": {
    "name": "ipython",
    "version": 3
   },
   "file_extension": ".py",
   "mimetype": "text/x-python",
   "name": "python",
   "nbconvert_exporter": "python",
   "pygments_lexer": "ipython3",
   "version": "3.9.12"
  }
 },
 "nbformat": 4,
 "nbformat_minor": 5
}
